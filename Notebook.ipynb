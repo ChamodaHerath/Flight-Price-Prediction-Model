{
 "cells": [
  {
   "cell_type": "markdown",
   "id": "152097dd-d21f-4446-86d7-01bf135acd81",
   "metadata": {
    "id": "152097dd-d21f-4446-86d7-01bf135acd81"
   },
   "source": [
    "# Flight Price Prediction ✈️ 💸"
   ]
  },
  {
   "cell_type": "markdown",
   "id": "467a45d6-09f8-404a-8050-a77aa841699a",
   "metadata": {
    "id": "467a45d6-09f8-404a-8050-a77aa841699a"
   },
   "source": [
    "## Introduction"
   ]
  },
  {
   "cell_type": "markdown",
   "id": "5d74a900-166c-4a71-b927-6d12b7eaa0e9",
   "metadata": {
    "id": "5d74a900-166c-4a71-b927-6d12b7eaa0e9"
   },
   "source": [
    "##### Accurately predicting flight ticket prices is a challenging yet crucial task for both airlines and customers. This notebook demonstrates the development of a machine learning model that predicts flight prices based on various factors, such as:\n",
    "\n",
    "* **Airline:** The carrier operating the flight.\n",
    "* **Flight Number:** The unique identifier for a flight.\n",
    "* **Source and Destination Cities:** The cities where the flight begins and ends.\n",
    "* **Departure and Arrival Times:** Time categories for the flight's start and end.\n",
    "* **Number of Stops:** Direct flights or connecting flights.\n",
    "* **Duration:** Total travel time.\n",
    "* **Class:** Economy or Business class.\n",
    "* **Days Left to Departure:** The number of days remaining before the flight.\n",
    "\n",
    "##### The dataset used for this project contains over 30,000 rows of flight data, offering a comprehensive set of features to train the model. Through rigorous data preprocessing, feature engineering, and model evaluation, this project aims to provide a reliable prediction framework for flight prices"
   ]
  },
  {
   "cell_type": "markdown",
   "id": "57nni68mXwcM",
   "metadata": {
    "id": "57nni68mXwcM"
   },
   "source": [
    "## 1. Data Loading 📂\n"
   ]
  },
  {
   "cell_type": "markdown",
   "id": "9KGVUPpDXzez",
   "metadata": {
    "id": "9KGVUPpDXzez"
   },
   "source": [
    "### Loading the Dataset\n"
   ]
  },
  {
   "cell_type": "code",
   "execution_count": 1,
   "id": "3da8658f-663c-4c51-97b7-4bad9163b922",
   "metadata": {
    "id": "3da8658f-663c-4c51-97b7-4bad9163b922"
   },
   "outputs": [],
   "source": [
    "import pandas as pd\n",
    "\n",
    "# Use the raw file link\n",
    "url = 'https://raw.githubusercontent.com/ChamodaHerath/Flight-Price-Prediction-Model/main/Clean_Dataset.csv'\n",
    "df = pd.read_csv(url)\n",
    "\n",
    "\n"
   ]
  },
  {
   "cell_type": "markdown",
   "id": "xFSlSwqbX7_V",
   "metadata": {
    "id": "xFSlSwqbX7_V"
   },
   "source": [
    "## 2. Data Exploration 🔍\n"
   ]
  },
  {
   "cell_type": "code",
   "execution_count": 2,
   "id": "bea35336-d8b6-4331-94e4-227d06fec138",
   "metadata": {
    "colab": {
     "base_uri": "https://localhost:8080/",
     "height": 423
    },
    "id": "bea35336-d8b6-4331-94e4-227d06fec138",
    "outputId": "6259cc7f-8863-4741-9ad9-9365bfb22833"
   },
   "outputs": [
    {
     "data": {
      "text/html": [
       "<div>\n",
       "<style scoped>\n",
       "    .dataframe tbody tr th:only-of-type {\n",
       "        vertical-align: middle;\n",
       "    }\n",
       "\n",
       "    .dataframe tbody tr th {\n",
       "        vertical-align: top;\n",
       "    }\n",
       "\n",
       "    .dataframe thead th {\n",
       "        text-align: right;\n",
       "    }\n",
       "</style>\n",
       "<table border=\"1\" class=\"dataframe\">\n",
       "  <thead>\n",
       "    <tr style=\"text-align: right;\">\n",
       "      <th></th>\n",
       "      <th>Unnamed: 0</th>\n",
       "      <th>airline</th>\n",
       "      <th>flight</th>\n",
       "      <th>source_city</th>\n",
       "      <th>departure_time</th>\n",
       "      <th>stops</th>\n",
       "      <th>arrival_time</th>\n",
       "      <th>destination_city</th>\n",
       "      <th>class</th>\n",
       "      <th>duration</th>\n",
       "      <th>days_left</th>\n",
       "      <th>price</th>\n",
       "    </tr>\n",
       "  </thead>\n",
       "  <tbody>\n",
       "    <tr>\n",
       "      <th>0</th>\n",
       "      <td>0</td>\n",
       "      <td>SpiceJet</td>\n",
       "      <td>SG-8709</td>\n",
       "      <td>Delhi</td>\n",
       "      <td>Evening</td>\n",
       "      <td>zero</td>\n",
       "      <td>Night</td>\n",
       "      <td>Mumbai</td>\n",
       "      <td>Economy</td>\n",
       "      <td>2.17</td>\n",
       "      <td>1</td>\n",
       "      <td>5953</td>\n",
       "    </tr>\n",
       "    <tr>\n",
       "      <th>1</th>\n",
       "      <td>1</td>\n",
       "      <td>SpiceJet</td>\n",
       "      <td>SG-8157</td>\n",
       "      <td>Delhi</td>\n",
       "      <td>Early_Morning</td>\n",
       "      <td>zero</td>\n",
       "      <td>Morning</td>\n",
       "      <td>Mumbai</td>\n",
       "      <td>Economy</td>\n",
       "      <td>2.33</td>\n",
       "      <td>1</td>\n",
       "      <td>5953</td>\n",
       "    </tr>\n",
       "    <tr>\n",
       "      <th>2</th>\n",
       "      <td>2</td>\n",
       "      <td>AirAsia</td>\n",
       "      <td>I5-764</td>\n",
       "      <td>Delhi</td>\n",
       "      <td>Early_Morning</td>\n",
       "      <td>zero</td>\n",
       "      <td>Early_Morning</td>\n",
       "      <td>Mumbai</td>\n",
       "      <td>Economy</td>\n",
       "      <td>2.17</td>\n",
       "      <td>1</td>\n",
       "      <td>5956</td>\n",
       "    </tr>\n",
       "    <tr>\n",
       "      <th>3</th>\n",
       "      <td>3</td>\n",
       "      <td>Vistara</td>\n",
       "      <td>UK-995</td>\n",
       "      <td>Delhi</td>\n",
       "      <td>Morning</td>\n",
       "      <td>zero</td>\n",
       "      <td>Afternoon</td>\n",
       "      <td>Mumbai</td>\n",
       "      <td>Economy</td>\n",
       "      <td>2.25</td>\n",
       "      <td>1</td>\n",
       "      <td>5955</td>\n",
       "    </tr>\n",
       "    <tr>\n",
       "      <th>4</th>\n",
       "      <td>4</td>\n",
       "      <td>Vistara</td>\n",
       "      <td>UK-963</td>\n",
       "      <td>Delhi</td>\n",
       "      <td>Morning</td>\n",
       "      <td>zero</td>\n",
       "      <td>Morning</td>\n",
       "      <td>Mumbai</td>\n",
       "      <td>Economy</td>\n",
       "      <td>2.33</td>\n",
       "      <td>1</td>\n",
       "      <td>5955</td>\n",
       "    </tr>\n",
       "    <tr>\n",
       "      <th>...</th>\n",
       "      <td>...</td>\n",
       "      <td>...</td>\n",
       "      <td>...</td>\n",
       "      <td>...</td>\n",
       "      <td>...</td>\n",
       "      <td>...</td>\n",
       "      <td>...</td>\n",
       "      <td>...</td>\n",
       "      <td>...</td>\n",
       "      <td>...</td>\n",
       "      <td>...</td>\n",
       "      <td>...</td>\n",
       "    </tr>\n",
       "    <tr>\n",
       "      <th>300148</th>\n",
       "      <td>300148</td>\n",
       "      <td>Vistara</td>\n",
       "      <td>UK-822</td>\n",
       "      <td>Chennai</td>\n",
       "      <td>Morning</td>\n",
       "      <td>one</td>\n",
       "      <td>Evening</td>\n",
       "      <td>Hyderabad</td>\n",
       "      <td>Business</td>\n",
       "      <td>10.08</td>\n",
       "      <td>49</td>\n",
       "      <td>69265</td>\n",
       "    </tr>\n",
       "    <tr>\n",
       "      <th>300149</th>\n",
       "      <td>300149</td>\n",
       "      <td>Vistara</td>\n",
       "      <td>UK-826</td>\n",
       "      <td>Chennai</td>\n",
       "      <td>Afternoon</td>\n",
       "      <td>one</td>\n",
       "      <td>Night</td>\n",
       "      <td>Hyderabad</td>\n",
       "      <td>Business</td>\n",
       "      <td>10.42</td>\n",
       "      <td>49</td>\n",
       "      <td>77105</td>\n",
       "    </tr>\n",
       "    <tr>\n",
       "      <th>300150</th>\n",
       "      <td>300150</td>\n",
       "      <td>Vistara</td>\n",
       "      <td>UK-832</td>\n",
       "      <td>Chennai</td>\n",
       "      <td>Early_Morning</td>\n",
       "      <td>one</td>\n",
       "      <td>Night</td>\n",
       "      <td>Hyderabad</td>\n",
       "      <td>Business</td>\n",
       "      <td>13.83</td>\n",
       "      <td>49</td>\n",
       "      <td>79099</td>\n",
       "    </tr>\n",
       "    <tr>\n",
       "      <th>300151</th>\n",
       "      <td>300151</td>\n",
       "      <td>Vistara</td>\n",
       "      <td>UK-828</td>\n",
       "      <td>Chennai</td>\n",
       "      <td>Early_Morning</td>\n",
       "      <td>one</td>\n",
       "      <td>Evening</td>\n",
       "      <td>Hyderabad</td>\n",
       "      <td>Business</td>\n",
       "      <td>10.00</td>\n",
       "      <td>49</td>\n",
       "      <td>81585</td>\n",
       "    </tr>\n",
       "    <tr>\n",
       "      <th>300152</th>\n",
       "      <td>300152</td>\n",
       "      <td>Vistara</td>\n",
       "      <td>UK-822</td>\n",
       "      <td>Chennai</td>\n",
       "      <td>Morning</td>\n",
       "      <td>one</td>\n",
       "      <td>Evening</td>\n",
       "      <td>Hyderabad</td>\n",
       "      <td>Business</td>\n",
       "      <td>10.08</td>\n",
       "      <td>49</td>\n",
       "      <td>81585</td>\n",
       "    </tr>\n",
       "  </tbody>\n",
       "</table>\n",
       "<p>300153 rows × 12 columns</p>\n",
       "</div>"
      ],
      "text/plain": [
       "        Unnamed: 0   airline   flight source_city departure_time stops  \\\n",
       "0                0  SpiceJet  SG-8709       Delhi        Evening  zero   \n",
       "1                1  SpiceJet  SG-8157       Delhi  Early_Morning  zero   \n",
       "2                2   AirAsia   I5-764       Delhi  Early_Morning  zero   \n",
       "3                3   Vistara   UK-995       Delhi        Morning  zero   \n",
       "4                4   Vistara   UK-963       Delhi        Morning  zero   \n",
       "...            ...       ...      ...         ...            ...   ...   \n",
       "300148      300148   Vistara   UK-822     Chennai        Morning   one   \n",
       "300149      300149   Vistara   UK-826     Chennai      Afternoon   one   \n",
       "300150      300150   Vistara   UK-832     Chennai  Early_Morning   one   \n",
       "300151      300151   Vistara   UK-828     Chennai  Early_Morning   one   \n",
       "300152      300152   Vistara   UK-822     Chennai        Morning   one   \n",
       "\n",
       "         arrival_time destination_city     class  duration  days_left  price  \n",
       "0               Night           Mumbai   Economy      2.17          1   5953  \n",
       "1             Morning           Mumbai   Economy      2.33          1   5953  \n",
       "2       Early_Morning           Mumbai   Economy      2.17          1   5956  \n",
       "3           Afternoon           Mumbai   Economy      2.25          1   5955  \n",
       "4             Morning           Mumbai   Economy      2.33          1   5955  \n",
       "...               ...              ...       ...       ...        ...    ...  \n",
       "300148        Evening        Hyderabad  Business     10.08         49  69265  \n",
       "300149          Night        Hyderabad  Business     10.42         49  77105  \n",
       "300150          Night        Hyderabad  Business     13.83         49  79099  \n",
       "300151        Evening        Hyderabad  Business     10.00         49  81585  \n",
       "300152        Evening        Hyderabad  Business     10.08         49  81585  \n",
       "\n",
       "[300153 rows x 12 columns]"
      ]
     },
     "execution_count": 2,
     "metadata": {},
     "output_type": "execute_result"
    }
   ],
   "source": [
    "df"
   ]
  },
  {
   "cell_type": "markdown",
   "id": "q5a1b52CYEsy",
   "metadata": {
    "id": "q5a1b52CYEsy"
   },
   "source": [
    "### Distribution Visualization\n"
   ]
  },
  {
   "cell_type": "code",
   "execution_count": 21,
   "id": "3b8ed2b3-8751-48fd-8869-4506e72d3db6",
   "metadata": {
    "colab": {
     "base_uri": "https://localhost:8080/",
     "height": 571
    },
    "id": "3b8ed2b3-8751-48fd-8869-4506e72d3db6",
    "outputId": "fb0658b8-681c-477a-f1bd-9478b78f7ff1"
   },
   "outputs": [
    {
     "data": {
      "image/png": "[encoded data removed]",
      "text/plain": [
       "<Figure size 1000x600 with 1 Axes>"
      ]
     },
     "metadata": {},
     "output_type": "display_data"
    }
   ],
   "source": [
    "import pandas as pd\n",
    "import matplotlib.pyplot as plt\n",
    "import seaborn as sns\n",
    "\n",
    "# Create a histogram for the 'price' column\n",
    "plt.figure(figsize=(10, 6))\n",
    "sns.histplot(df['price'], bins=30, kde=True, color='blue')\n",
    "\n",
    "# Add labels and title\n",
    "plt.title('Histogram of Flight Prices', fontsize=16)\n",
    "plt.xlabel('Price', fontsize=14)\n",
    "plt.ylabel('Frequency', fontsize=14)\n",
    "\n",
    "# Show the plot\n",
    "plt.show()\n",
    "\n"
   ]
  },
  {
   "cell_type": "code",
   "execution_count": 22,
   "id": "dd838db6-3b81-495a-9912-9d6e6e52dcae",
   "metadata": {
    "id": "dd838db6-3b81-495a-9912-9d6e6e52dcae"
   },
   "outputs": [],
   "source": [
    "import matplotlib.pyplot as pyplot\n",
    "import numpy as np\n",
    "\n",
    "def plot_bar_chart(df, column):\n",
    "    value_counts = df[column].value_counts()\n",
    "    colors = pyplot.get_cmap('tab10', len(value_counts))\n",
    "    plt.figure(figsize=(6, 3))\n",
    "    plt.bar(value_counts.index, value_counts.values, color=colors(np.arange(len(value_counts))))\n",
    "    plt.xlabel(column)\n",
    "    plt.ylabel('Count')\n",
    "    plt.title(f'Distribution of {column}')\n",
    "    plt.xticks(rotation=45)\n",
    "    plt.show()\n",
    "\n"
   ]
  },
  {
   "cell_type": "markdown",
   "id": "12391bd5-315f-4ecb-a5b4-ace747f876bf",
   "metadata": {
    "id": "12391bd5-315f-4ecb-a5b4-ace747f876bf"
   },
   "source": [
    "### Airline Details"
   ]
  },
  {
   "cell_type": "code",
   "execution_count": 23,
   "id": "e9d1112e-424f-45cf-a0a3-c0516043a65d",
   "metadata": {
    "colab": {
     "base_uri": "https://localhost:8080/",
     "height": 377
    },
    "id": "e9d1112e-424f-45cf-a0a3-c0516043a65d",
    "outputId": "4694b856-7e40-4070-8f0e-5cd27d461d30",
    "scrolled": true
   },
   "outputs": [
    {
     "data": {
      "image/png": "[encoded data removed]",
      "text/plain": [
       "<Figure size 600x300 with 1 Axes>"
      ]
     },
     "metadata": {},
     "output_type": "display_data"
    }
   ],
   "source": [
    "plot_bar_chart(df, 'airline')"
   ]
  },
  {
   "cell_type": "code",
   "execution_count": 24,
   "id": "c61f7a3a-d970-4f87-8eab-0e200fa3ec16",
   "metadata": {
    "colab": {
     "base_uri": "https://localhost:8080/",
     "height": 303
    },
    "id": "c61f7a3a-d970-4f87-8eab-0e200fa3ec16",
    "outputId": "7f1dd026-4317-423f-88fb-40f09029c808"
   },
   "outputs": [
    {
     "data": {
      "text/plain": [
       "Vistara      127859\n",
       "Air_India     80892\n",
       "Indigo        43120\n",
       "GO_FIRST      23173\n",
       "AirAsia       16098\n",
       "SpiceJet       9011\n",
       "Name: airline, dtype: int64"
      ]
     },
     "execution_count": 24,
     "metadata": {},
     "output_type": "execute_result"
    }
   ],
   "source": [
    "df.airline.value_counts()"
   ]
  },
  {
   "cell_type": "markdown",
   "id": "48450dad-240a-41a6-a059-798c36c3b6e7",
   "metadata": {
    "id": "48450dad-240a-41a6-a059-798c36c3b6e7"
   },
   "source": [
    "### Source City Details"
   ]
  },
  {
   "cell_type": "code",
   "execution_count": 25,
   "id": "e1d58117-4577-4fdb-9e32-72f4eb8bd7d5",
   "metadata": {
    "colab": {
     "base_uri": "https://localhost:8080/",
     "height": 383
    },
    "id": "e1d58117-4577-4fdb-9e32-72f4eb8bd7d5",
    "outputId": "01e3f177-43bc-4095-b7a0-b600f97279cc"
   },
   "outputs": [
    {
     "data": {
      "image/png": "[encoded data removed]",
      "text/plain": [
       "<Figure size 600x300 with 1 Axes>"
      ]
     },
     "metadata": {},
     "output_type": "display_data"
    }
   ],
   "source": [
    "plot_bar_chart(df, 'source_city')"
   ]
  },
  {
   "cell_type": "code",
   "execution_count": 26,
   "id": "3bfbf9e7-ec18-45bd-b698-ec2ca42b2468",
   "metadata": {
    "colab": {
     "base_uri": "https://localhost:8080/",
     "height": 303
    },
    "id": "3bfbf9e7-ec18-45bd-b698-ec2ca42b2468",
    "outputId": "23fa1c00-69fc-4ed8-8cb6-51a47da4489d"
   },
   "outputs": [
    {
     "data": {
      "text/plain": [
       "Delhi        61343\n",
       "Mumbai       60896\n",
       "Bangalore    52061\n",
       "Kolkata      46347\n",
       "Hyderabad    40806\n",
       "Chennai      38700\n",
       "Name: source_city, dtype: int64"
      ]
     },
     "execution_count": 26,
     "metadata": {},
     "output_type": "execute_result"
    }
   ],
   "source": [
    "df.source_city.value_counts()"
   ]
  },
  {
   "cell_type": "markdown",
   "id": "15a6e878-ac04-4a58-840c-e23d8983682b",
   "metadata": {
    "id": "15a6e878-ac04-4a58-840c-e23d8983682b"
   },
   "source": [
    "### Destination City Details"
   ]
  },
  {
   "cell_type": "code",
   "execution_count": 27,
   "id": "7011e749-6f06-49e1-8131-c45134029c5b",
   "metadata": {
    "colab": {
     "base_uri": "https://localhost:8080/",
     "height": 383
    },
    "id": "7011e749-6f06-49e1-8131-c45134029c5b",
    "outputId": "41efd4e7-f199-42fb-de24-e34af7e4565a"
   },
   "outputs": [
    {
     "data": {
      "image/png": "[encoded data removed]",
      "text/plain": [
       "<Figure size 600x300 with 1 Axes>"
      ]
     },
     "metadata": {},
     "output_type": "display_data"
    }
   ],
   "source": [
    "plot_bar_chart(df, 'destination_city')"
   ]
  },
  {
   "cell_type": "code",
   "execution_count": 28,
   "id": "bd9d9465-28e1-48a3-8fef-415eaa425528",
   "metadata": {
    "colab": {
     "base_uri": "https://localhost:8080/",
     "height": 303
    },
    "id": "bd9d9465-28e1-48a3-8fef-415eaa425528",
    "outputId": "892da013-f313-42cb-a2d0-531a25f88aaa"
   },
   "outputs": [
    {
     "data": {
      "text/plain": [
       "Mumbai       59097\n",
       "Delhi        57360\n",
       "Bangalore    51068\n",
       "Kolkata      49534\n",
       "Hyderabad    42726\n",
       "Chennai      40368\n",
       "Name: destination_city, dtype: int64"
      ]
     },
     "execution_count": 28,
     "metadata": {},
     "output_type": "execute_result"
    }
   ],
   "source": [
    "df.destination_city.value_counts()"
   ]
  },
  {
   "cell_type": "markdown",
   "id": "48127178-90ab-4cfa-82ce-286f0889f26a",
   "metadata": {
    "id": "48127178-90ab-4cfa-82ce-286f0889f26a"
   },
   "source": [
    "### Departure Time Details"
   ]
  },
  {
   "cell_type": "code",
   "execution_count": 29,
   "id": "ed2f8578-a9bc-4948-83fd-4e680b5adb2f",
   "metadata": {
    "colab": {
     "base_uri": "https://localhost:8080/",
     "height": 399
    },
    "id": "ed2f8578-a9bc-4948-83fd-4e680b5adb2f",
    "outputId": "09bb188d-8259-4334-daf4-4553d4bd2d69"
   },
   "outputs": [
    {
     "data": {
      "image/png": "[encoded data removed]",
      "text/plain": [
       "<Figure size 600x300 with 1 Axes>"
      ]
     },
     "metadata": {},
     "output_type": "display_data"
    }
   ],
   "source": [
    "plot_bar_chart(df, 'departure_time')"
   ]
  },
  {
   "cell_type": "code",
   "execution_count": 30,
   "id": "e314ddb3-0e17-46de-b472-4be6824aa68e",
   "metadata": {
    "colab": {
     "base_uri": "https://localhost:8080/",
     "height": 303
    },
    "id": "e314ddb3-0e17-46de-b472-4be6824aa68e",
    "outputId": "29df8f1c-9cd0-4edd-b180-5759370797e1"
   },
   "outputs": [
    {
     "data": {
      "text/plain": [
       "Morning          71146\n",
       "Early_Morning    66790\n",
       "Evening          65102\n",
       "Night            48015\n",
       "Afternoon        47794\n",
       "Late_Night        1306\n",
       "Name: departure_time, dtype: int64"
      ]
     },
     "execution_count": 30,
     "metadata": {},
     "output_type": "execute_result"
    }
   ],
   "source": [
    "df.departure_time.value_counts()"
   ]
  },
  {
   "cell_type": "markdown",
   "id": "3a0e75a4-40c4-43b8-9ac5-19ab0517ce99",
   "metadata": {
    "id": "3a0e75a4-40c4-43b8-9ac5-19ab0517ce99"
   },
   "source": [
    "### Arrival Time Details"
   ]
  },
  {
   "cell_type": "code",
   "execution_count": 31,
   "id": "5358da74-bdda-4493-baed-7c0b076766b8",
   "metadata": {
    "colab": {
     "base_uri": "https://localhost:8080/",
     "height": 399
    },
    "id": "5358da74-bdda-4493-baed-7c0b076766b8",
    "outputId": "55dca54a-ef99-4bee-ca5c-71343cda549d"
   },
   "outputs": [
    {
     "data": {
      "image/png": "[encoded data removed]",
      "text/plain": [
       "<Figure size 600x300 with 1 Axes>"
      ]
     },
     "metadata": {},
     "output_type": "display_data"
    }
   ],
   "source": [
    "plot_bar_chart(df, 'arrival_time')"
   ]
  },
  {
   "cell_type": "code",
   "execution_count": 32,
   "id": "79eeea6e-5487-46d8-b682-6233aed7a78c",
   "metadata": {
    "colab": {
     "base_uri": "https://localhost:8080/",
     "height": 303
    },
    "id": "79eeea6e-5487-46d8-b682-6233aed7a78c",
    "outputId": "28798f59-77db-4bd2-9070-c75aad8708f4"
   },
   "outputs": [
    {
     "data": {
      "text/plain": [
       "Night            91538\n",
       "Evening          78323\n",
       "Morning          62735\n",
       "Afternoon        38139\n",
       "Early_Morning    15417\n",
       "Late_Night       14001\n",
       "Name: arrival_time, dtype: int64"
      ]
     },
     "execution_count": 32,
     "metadata": {},
     "output_type": "execute_result"
    }
   ],
   "source": [
    "df.arrival_time.value_counts()"
   ]
  },
  {
   "cell_type": "markdown",
   "id": "d9d0805b-6885-4f2c-a1b5-fe47f851402a",
   "metadata": {
    "id": "d9d0805b-6885-4f2c-a1b5-fe47f851402a"
   },
   "source": [
    "### Stops Details"
   ]
  },
  {
   "cell_type": "code",
   "execution_count": 33,
   "id": "36458f85-ec32-4f77-92f3-a5b429555ed9",
   "metadata": {
    "colab": {
     "base_uri": "https://localhost:8080/",
     "height": 392
    },
    "id": "36458f85-ec32-4f77-92f3-a5b429555ed9",
    "outputId": "fe624e36-e5ea-47be-936e-dad14764e626"
   },
   "outputs": [
    {
     "data": {
      "image/png": "[encoded data removed]",
      "text/plain": [
       "<Figure size 600x300 with 1 Axes>"
      ]
     },
     "metadata": {},
     "output_type": "display_data"
    }
   ],
   "source": [
    "plot_bar_chart(df, 'stops')"
   ]
  },
  {
   "cell_type": "code",
   "execution_count": 34,
   "id": "47a180eb-db45-4c7d-8bdd-8e9a2945b788",
   "metadata": {
    "colab": {
     "base_uri": "https://localhost:8080/",
     "height": 209
    },
    "id": "47a180eb-db45-4c7d-8bdd-8e9a2945b788",
    "outputId": "d7bddeae-ba62-4c6b-e5e4-8dc0d3f984b3"
   },
   "outputs": [
    {
     "data": {
      "text/plain": [
       "one            250863\n",
       "zero            36004\n",
       "two_or_more     13286\n",
       "Name: stops, dtype: int64"
      ]
     },
     "execution_count": 34,
     "metadata": {},
     "output_type": "execute_result"
    }
   ],
   "source": [
    "df.stops.value_counts()"
   ]
  },
  {
   "cell_type": "markdown",
   "id": "3da075e1-86c1-405b-9bc6-a33a01f8b736",
   "metadata": {
    "id": "3da075e1-86c1-405b-9bc6-a33a01f8b736"
   },
   "source": [
    "### Class Details"
   ]
  },
  {
   "cell_type": "code",
   "execution_count": 35,
   "id": "3f4a7ca0-269b-4c2c-9bbe-6dbc282099f2",
   "metadata": {
    "colab": {
     "base_uri": "https://localhost:8080/",
     "height": 374
    },
    "id": "3f4a7ca0-269b-4c2c-9bbe-6dbc282099f2",
    "outputId": "0490d888-4aaa-4e74-f828-ebf5a0a918ee"
   },
   "outputs": [
    {
     "data": {
      "image/png": "[encoded data removed]",
      "text/plain": [
       "<Figure size 600x300 with 1 Axes>"
      ]
     },
     "metadata": {},
     "output_type": "display_data"
    }
   ],
   "source": [
    "plot_bar_chart(df, 'class')"
   ]
  },
  {
   "cell_type": "code",
   "execution_count": 36,
   "id": "c03b9e87-b7c4-4b72-9a07-f12207366e69",
   "metadata": {
    "colab": {
     "base_uri": "https://localhost:8080/",
     "height": 178
    },
    "id": "c03b9e87-b7c4-4b72-9a07-f12207366e69",
    "outputId": "d561dbe3-c18b-4f8f-83e8-86f9eb699c69",
    "scrolled": true
   },
   "outputs": [
    {
     "data": {
      "text/plain": [
       "Economy     206666\n",
       "Business     93487\n",
       "Name: class, dtype: int64"
      ]
     },
     "execution_count": 36,
     "metadata": {},
     "output_type": "execute_result"
    }
   ],
   "source": [
    "df['class'].value_counts()"
   ]
  },
  {
   "cell_type": "markdown",
   "id": "623faf47-5348-41eb-93f1-2efdc81dd9cf",
   "metadata": {
    "id": "623faf47-5348-41eb-93f1-2efdc81dd9cf"
   },
   "source": [
    "### Unique values for categorical columns"
   ]
  },
  {
   "cell_type": "code",
   "execution_count": 37,
   "id": "9c230965-3265-40fa-8f96-41f046842796",
   "metadata": {
    "colab": {
     "base_uri": "https://localhost:8080/"
    },
    "id": "9c230965-3265-40fa-8f96-41f046842796",
    "outputId": "0f34301b-b963-4575-9608-ef2af0ab7e4c"
   },
   "outputs": [
    {
     "name": "stdout",
     "output_type": "stream",
     "text": [
      "\n",
      "Unique values in airline:\n",
      "['SpiceJet' 'AirAsia' 'Vistara' 'GO_FIRST' 'Indigo' 'Air_India']\n",
      "\n",
      "Unique values in source_city:\n",
      "['Delhi' 'Mumbai' 'Bangalore' 'Kolkata' 'Hyderabad' 'Chennai']\n",
      "\n",
      "Unique values in departure_time:\n",
      "['Evening' 'Early_Morning' 'Morning' 'Afternoon' 'Night' 'Late_Night']\n",
      "\n",
      "Unique values in stops:\n",
      "['zero' 'one' 'two_or_more']\n",
      "\n",
      "Unique values in arrival_time:\n",
      "['Night' 'Morning' 'Early_Morning' 'Afternoon' 'Evening' 'Late_Night']\n",
      "\n",
      "Unique values in destination_city:\n",
      "['Mumbai' 'Bangalore' 'Kolkata' 'Hyderabad' 'Chennai' 'Delhi']\n",
      "\n",
      "Unique values in class:\n",
      "['Economy' 'Business']\n"
     ]
    }
   ],
   "source": [
    "\n",
    "categorical_columns = ['airline','source_city','departure_time','stops','arrival_time','destination_city','class']\n",
    "for column in categorical_columns:\n",
    "    print(f\"\\nUnique values in {column}:\")\n",
    "    print(df[column].unique())"
   ]
  },
  {
   "cell_type": "markdown",
   "id": "9bb05e41-a5ae-44c4-a199-df5ee76d9289",
   "metadata": {
    "id": "9bb05e41-a5ae-44c4-a199-df5ee76d9289"
   },
   "source": [
    "### Correlation between numerical columns"
   ]
  },
  {
   "cell_type": "code",
   "execution_count": 38,
   "id": "c9d8ecee-671f-46b2-901f-b458278bf382",
   "metadata": {
    "colab": {
     "base_uri": "https://localhost:8080/",
     "height": 452
    },
    "id": "c9d8ecee-671f-46b2-901f-b458278bf382",
    "outputId": "de8be666-a372-4727-9b76-930ca8a6f7c2"
   },
   "outputs": [
    {
     "data": {
      "image/png": "[encoded data removed]",
      "text/plain": [
       "<Figure size 640x480 with 2 Axes>"
      ]
     },
     "metadata": {},
     "output_type": "display_data"
    }
   ],
   "source": [
    "import seaborn as sns\n",
    "\n",
    "numerical_columns = ['duration','days_left','price']\n",
    "correlation_matrix = df[numerical_columns].corr()\n",
    "sns.heatmap(correlation_matrix, annot=True, cmap='coolwarm')\n",
    "plt.title('Correlation Matrix')\n",
    "plt.show()"
   ]
  },
  {
   "cell_type": "markdown",
   "id": "f1a01f44-c754-4424-90ac-99fcec8bfe06",
   "metadata": {
    "id": "f1a01f44-c754-4424-90ac-99fcec8bfe06"
   },
   "source": [
    "## 3. Data Preprocessing 🛠️\n"
   ]
  },
  {
   "cell_type": "markdown",
   "id": "34871432-fcb6-4185-bd6b-9efcf392dd96",
   "metadata": {
    "id": "34871432-fcb6-4185-bd6b-9efcf392dd96"
   },
   "source": [
    "### Cleaning and Feature Selection\n"
   ]
  },
  {
   "cell_type": "markdown",
   "id": "2791e974-e79a-47f9-a21c-914fca014b40",
   "metadata": {
    "id": "2791e974-e79a-47f9-a21c-914fca014b40"
   },
   "source": [
    "#### Dropping the unnecessary column"
   ]
  },
  {
   "cell_type": "code",
   "execution_count": 2,
   "id": "9ec4ffa3-243d-4fc1-8d5b-66c41e736c36",
   "metadata": {
    "id": "9ec4ffa3-243d-4fc1-8d5b-66c41e736c36"
   },
   "outputs": [],
   "source": [
    "df = df.drop('Unnamed: 0', axis=1) ## this is row number\n",
    "df = df.drop('flight', axis=1) ## i drop flight here bcz flight doesnt affect the prediction.\n",
    "\n",
    "df['class'] = df['class'].apply(lambda x: 1 if x == 'Business' else 0)"
   ]
  },
  {
   "cell_type": "markdown",
   "id": "4100d7e0-332e-42a8-933e-5f24facc4a9a",
   "metadata": {},
   "source": [
    "#### Handling Null Values"
   ]
  },
  {
   "cell_type": "code",
   "execution_count": 3,
   "id": "f600f5b7-a5c9-49fb-96a6-14315a7ec40a",
   "metadata": {},
   "outputs": [],
   "source": [
    "df = df.dropna()"
   ]
  },
  {
   "cell_type": "code",
   "execution_count": 4,
   "id": "804e8d17-a0da-4e4f-b70e-f26a41bffa57",
   "metadata": {
    "colab": {
     "base_uri": "https://localhost:8080/",
     "height": 423
    },
    "id": "804e8d17-a0da-4e4f-b70e-f26a41bffa57",
    "outputId": "de4ec036-c882-44dd-f55c-314e971a8dc4"
   },
   "outputs": [
    {
     "data": {
      "text/html": [
       "<div>\n",
       "<style scoped>\n",
       "    .dataframe tbody tr th:only-of-type {\n",
       "        vertical-align: middle;\n",
       "    }\n",
       "\n",
       "    .dataframe tbody tr th {\n",
       "        vertical-align: top;\n",
       "    }\n",
       "\n",
       "    .dataframe thead th {\n",
       "        text-align: right;\n",
       "    }\n",
       "</style>\n",
       "<table border=\"1\" class=\"dataframe\">\n",
       "  <thead>\n",
       "    <tr style=\"text-align: right;\">\n",
       "      <th></th>\n",
       "      <th>airline</th>\n",
       "      <th>source_city</th>\n",
       "      <th>departure_time</th>\n",
       "      <th>stops</th>\n",
       "      <th>arrival_time</th>\n",
       "      <th>destination_city</th>\n",
       "      <th>class</th>\n",
       "      <th>duration</th>\n",
       "      <th>days_left</th>\n",
       "      <th>price</th>\n",
       "    </tr>\n",
       "  </thead>\n",
       "  <tbody>\n",
       "    <tr>\n",
       "      <th>0</th>\n",
       "      <td>SpiceJet</td>\n",
       "      <td>Delhi</td>\n",
       "      <td>Evening</td>\n",
       "      <td>zero</td>\n",
       "      <td>Night</td>\n",
       "      <td>Mumbai</td>\n",
       "      <td>0</td>\n",
       "      <td>2.17</td>\n",
       "      <td>1</td>\n",
       "      <td>5953</td>\n",
       "    </tr>\n",
       "    <tr>\n",
       "      <th>1</th>\n",
       "      <td>SpiceJet</td>\n",
       "      <td>Delhi</td>\n",
       "      <td>Early_Morning</td>\n",
       "      <td>zero</td>\n",
       "      <td>Morning</td>\n",
       "      <td>Mumbai</td>\n",
       "      <td>0</td>\n",
       "      <td>2.33</td>\n",
       "      <td>1</td>\n",
       "      <td>5953</td>\n",
       "    </tr>\n",
       "    <tr>\n",
       "      <th>2</th>\n",
       "      <td>AirAsia</td>\n",
       "      <td>Delhi</td>\n",
       "      <td>Early_Morning</td>\n",
       "      <td>zero</td>\n",
       "      <td>Early_Morning</td>\n",
       "      <td>Mumbai</td>\n",
       "      <td>0</td>\n",
       "      <td>2.17</td>\n",
       "      <td>1</td>\n",
       "      <td>5956</td>\n",
       "    </tr>\n",
       "    <tr>\n",
       "      <th>3</th>\n",
       "      <td>Vistara</td>\n",
       "      <td>Delhi</td>\n",
       "      <td>Morning</td>\n",
       "      <td>zero</td>\n",
       "      <td>Afternoon</td>\n",
       "      <td>Mumbai</td>\n",
       "      <td>0</td>\n",
       "      <td>2.25</td>\n",
       "      <td>1</td>\n",
       "      <td>5955</td>\n",
       "    </tr>\n",
       "    <tr>\n",
       "      <th>4</th>\n",
       "      <td>Vistara</td>\n",
       "      <td>Delhi</td>\n",
       "      <td>Morning</td>\n",
       "      <td>zero</td>\n",
       "      <td>Morning</td>\n",
       "      <td>Mumbai</td>\n",
       "      <td>0</td>\n",
       "      <td>2.33</td>\n",
       "      <td>1</td>\n",
       "      <td>5955</td>\n",
       "    </tr>\n",
       "    <tr>\n",
       "      <th>...</th>\n",
       "      <td>...</td>\n",
       "      <td>...</td>\n",
       "      <td>...</td>\n",
       "      <td>...</td>\n",
       "      <td>...</td>\n",
       "      <td>...</td>\n",
       "      <td>...</td>\n",
       "      <td>...</td>\n",
       "      <td>...</td>\n",
       "      <td>...</td>\n",
       "    </tr>\n",
       "    <tr>\n",
       "      <th>300148</th>\n",
       "      <td>Vistara</td>\n",
       "      <td>Chennai</td>\n",
       "      <td>Morning</td>\n",
       "      <td>one</td>\n",
       "      <td>Evening</td>\n",
       "      <td>Hyderabad</td>\n",
       "      <td>1</td>\n",
       "      <td>10.08</td>\n",
       "      <td>49</td>\n",
       "      <td>69265</td>\n",
       "    </tr>\n",
       "    <tr>\n",
       "      <th>300149</th>\n",
       "      <td>Vistara</td>\n",
       "      <td>Chennai</td>\n",
       "      <td>Afternoon</td>\n",
       "      <td>one</td>\n",
       "      <td>Night</td>\n",
       "      <td>Hyderabad</td>\n",
       "      <td>1</td>\n",
       "      <td>10.42</td>\n",
       "      <td>49</td>\n",
       "      <td>77105</td>\n",
       "    </tr>\n",
       "    <tr>\n",
       "      <th>300150</th>\n",
       "      <td>Vistara</td>\n",
       "      <td>Chennai</td>\n",
       "      <td>Early_Morning</td>\n",
       "      <td>one</td>\n",
       "      <td>Night</td>\n",
       "      <td>Hyderabad</td>\n",
       "      <td>1</td>\n",
       "      <td>13.83</td>\n",
       "      <td>49</td>\n",
       "      <td>79099</td>\n",
       "    </tr>\n",
       "    <tr>\n",
       "      <th>300151</th>\n",
       "      <td>Vistara</td>\n",
       "      <td>Chennai</td>\n",
       "      <td>Early_Morning</td>\n",
       "      <td>one</td>\n",
       "      <td>Evening</td>\n",
       "      <td>Hyderabad</td>\n",
       "      <td>1</td>\n",
       "      <td>10.00</td>\n",
       "      <td>49</td>\n",
       "      <td>81585</td>\n",
       "    </tr>\n",
       "    <tr>\n",
       "      <th>300152</th>\n",
       "      <td>Vistara</td>\n",
       "      <td>Chennai</td>\n",
       "      <td>Morning</td>\n",
       "      <td>one</td>\n",
       "      <td>Evening</td>\n",
       "      <td>Hyderabad</td>\n",
       "      <td>1</td>\n",
       "      <td>10.08</td>\n",
       "      <td>49</td>\n",
       "      <td>81585</td>\n",
       "    </tr>\n",
       "  </tbody>\n",
       "</table>\n",
       "<p>300153 rows × 10 columns</p>\n",
       "</div>"
      ],
      "text/plain": [
       "         airline source_city departure_time stops   arrival_time  \\\n",
       "0       SpiceJet       Delhi        Evening  zero          Night   \n",
       "1       SpiceJet       Delhi  Early_Morning  zero        Morning   \n",
       "2        AirAsia       Delhi  Early_Morning  zero  Early_Morning   \n",
       "3        Vistara       Delhi        Morning  zero      Afternoon   \n",
       "4        Vistara       Delhi        Morning  zero        Morning   \n",
       "...          ...         ...            ...   ...            ...   \n",
       "300148   Vistara     Chennai        Morning   one        Evening   \n",
       "300149   Vistara     Chennai      Afternoon   one          Night   \n",
       "300150   Vistara     Chennai  Early_Morning   one          Night   \n",
       "300151   Vistara     Chennai  Early_Morning   one        Evening   \n",
       "300152   Vistara     Chennai        Morning   one        Evening   \n",
       "\n",
       "       destination_city  class  duration  days_left  price  \n",
       "0                Mumbai      0      2.17          1   5953  \n",
       "1                Mumbai      0      2.33          1   5953  \n",
       "2                Mumbai      0      2.17          1   5956  \n",
       "3                Mumbai      0      2.25          1   5955  \n",
       "4                Mumbai      0      2.33          1   5955  \n",
       "...                 ...    ...       ...        ...    ...  \n",
       "300148        Hyderabad      1     10.08         49  69265  \n",
       "300149        Hyderabad      1     10.42         49  77105  \n",
       "300150        Hyderabad      1     13.83         49  79099  \n",
       "300151        Hyderabad      1     10.00         49  81585  \n",
       "300152        Hyderabad      1     10.08         49  81585  \n",
       "\n",
       "[300153 rows x 10 columns]"
      ]
     },
     "execution_count": 4,
     "metadata": {},
     "output_type": "execute_result"
    }
   ],
   "source": [
    "df"
   ]
  },
  {
   "cell_type": "markdown",
   "id": "3d7ddedb-49bc-40c1-8e2e-28e54c1517e1",
   "metadata": {
    "id": "3d7ddedb-49bc-40c1-8e2e-28e54c1517e1"
   },
   "source": [
    "#### Encoding categorical columns by lable Encoding"
   ]
  },
  {
   "cell_type": "code",
   "execution_count": 5,
   "id": "e9232f3c-4fc5-43f8-b063-372fbbf73b12",
   "metadata": {
    "colab": {
     "base_uri": "https://localhost:8080/"
    },
    "id": "e9232f3c-4fc5-43f8-b063-372fbbf73b12",
    "outputId": "4778c035-ee63-444a-f3e6-5df439589fa9"
   },
   "outputs": [
    {
     "name": "stdout",
     "output_type": "stream",
     "text": [
      "\n",
      "Encoded values for stops:\n",
      "[2 0 1]\n",
      "\n",
      "Encoded values for class:\n",
      "[0 1]\n"
     ]
    }
   ],
   "source": [
    "from sklearn.preprocessing import LabelEncoder\n",
    "\n",
    "binary_categorical_columns=['stops','class']\n",
    "label_encoder = LabelEncoder()\n",
    "for column in binary_categorical_columns:\n",
    "    df[column] = label_encoder.fit_transform(df[column])\n",
    "    print(f\"\\nEncoded values for {column}:\")\n",
    "    print(df[column].unique())"
   ]
  },
  {
   "cell_type": "markdown",
   "id": "9n-zvjwCYTW4",
   "metadata": {
    "id": "9n-zvjwCYTW4"
   },
   "source": [
    "## 4. Feature Engineering ⚙️\n"
   ]
  },
  {
   "cell_type": "code",
   "execution_count": 6,
   "id": "6e1efc46-a982-4884-8b93-7ea39cfaffb3",
   "metadata": {
    "id": "6e1efc46-a982-4884-8b93-7ea39cfaffb3"
   },
   "outputs": [],
   "source": [
    "import pandas as pd"
   ]
  },
  {
   "cell_type": "markdown",
   "id": "c0b7f590-1bea-4a0b-916e-99a2201e19f3",
   "metadata": {
    "id": "c0b7f590-1bea-4a0b-916e-99a2201e19f3"
   },
   "source": [
    "#### One-hot encoding for categorical columns"
   ]
  },
  {
   "cell_type": "code",
   "execution_count": 7,
   "id": "19b5f3e1-b0ba-431e-bea5-83e58b85611d",
   "metadata": {
    "id": "19b5f3e1-b0ba-431e-bea5-83e58b85611d"
   },
   "outputs": [],
   "source": [
    "df = pd.get_dummies(df, columns=['airline', 'source_city', 'destination_city', 'departure_time', 'arrival_time', 'class'], drop_first=True)"
   ]
  },
  {
   "cell_type": "code",
   "execution_count": 8,
   "id": "4884af69-9ab5-4b0e-a0d7-fb23f57808d2",
   "metadata": {
    "colab": {
     "base_uri": "https://localhost:8080/",
     "height": 443
    },
    "id": "4884af69-9ab5-4b0e-a0d7-fb23f57808d2",
    "outputId": "336ccbfa-111a-4f77-f32f-59fd5a31a9f9"
   },
   "outputs": [
    {
     "data": {
      "text/html": [
       "<div>\n",
       "<style scoped>\n",
       "    .dataframe tbody tr th:only-of-type {\n",
       "        vertical-align: middle;\n",
       "    }\n",
       "\n",
       "    .dataframe tbody tr th {\n",
       "        vertical-align: top;\n",
       "    }\n",
       "\n",
       "    .dataframe thead th {\n",
       "        text-align: right;\n",
       "    }\n",
       "</style>\n",
       "<table border=\"1\" class=\"dataframe\">\n",
       "  <thead>\n",
       "    <tr style=\"text-align: right;\">\n",
       "      <th></th>\n",
       "      <th>stops</th>\n",
       "      <th>duration</th>\n",
       "      <th>days_left</th>\n",
       "      <th>price</th>\n",
       "      <th>airline_Air_India</th>\n",
       "      <th>airline_GO_FIRST</th>\n",
       "      <th>airline_Indigo</th>\n",
       "      <th>airline_SpiceJet</th>\n",
       "      <th>airline_Vistara</th>\n",
       "      <th>source_city_Chennai</th>\n",
       "      <th>...</th>\n",
       "      <th>departure_time_Evening</th>\n",
       "      <th>departure_time_Late_Night</th>\n",
       "      <th>departure_time_Morning</th>\n",
       "      <th>departure_time_Night</th>\n",
       "      <th>arrival_time_Early_Morning</th>\n",
       "      <th>arrival_time_Evening</th>\n",
       "      <th>arrival_time_Late_Night</th>\n",
       "      <th>arrival_time_Morning</th>\n",
       "      <th>arrival_time_Night</th>\n",
       "      <th>class_1</th>\n",
       "    </tr>\n",
       "  </thead>\n",
       "  <tbody>\n",
       "    <tr>\n",
       "      <th>0</th>\n",
       "      <td>2</td>\n",
       "      <td>2.17</td>\n",
       "      <td>1</td>\n",
       "      <td>5953</td>\n",
       "      <td>0</td>\n",
       "      <td>0</td>\n",
       "      <td>0</td>\n",
       "      <td>1</td>\n",
       "      <td>0</td>\n",
       "      <td>0</td>\n",
       "      <td>...</td>\n",
       "      <td>1</td>\n",
       "      <td>0</td>\n",
       "      <td>0</td>\n",
       "      <td>0</td>\n",
       "      <td>0</td>\n",
       "      <td>0</td>\n",
       "      <td>0</td>\n",
       "      <td>0</td>\n",
       "      <td>1</td>\n",
       "      <td>0</td>\n",
       "    </tr>\n",
       "    <tr>\n",
       "      <th>1</th>\n",
       "      <td>2</td>\n",
       "      <td>2.33</td>\n",
       "      <td>1</td>\n",
       "      <td>5953</td>\n",
       "      <td>0</td>\n",
       "      <td>0</td>\n",
       "      <td>0</td>\n",
       "      <td>1</td>\n",
       "      <td>0</td>\n",
       "      <td>0</td>\n",
       "      <td>...</td>\n",
       "      <td>0</td>\n",
       "      <td>0</td>\n",
       "      <td>0</td>\n",
       "      <td>0</td>\n",
       "      <td>0</td>\n",
       "      <td>0</td>\n",
       "      <td>0</td>\n",
       "      <td>1</td>\n",
       "      <td>0</td>\n",
       "      <td>0</td>\n",
       "    </tr>\n",
       "    <tr>\n",
       "      <th>2</th>\n",
       "      <td>2</td>\n",
       "      <td>2.17</td>\n",
       "      <td>1</td>\n",
       "      <td>5956</td>\n",
       "      <td>0</td>\n",
       "      <td>0</td>\n",
       "      <td>0</td>\n",
       "      <td>0</td>\n",
       "      <td>0</td>\n",
       "      <td>0</td>\n",
       "      <td>...</td>\n",
       "      <td>0</td>\n",
       "      <td>0</td>\n",
       "      <td>0</td>\n",
       "      <td>0</td>\n",
       "      <td>1</td>\n",
       "      <td>0</td>\n",
       "      <td>0</td>\n",
       "      <td>0</td>\n",
       "      <td>0</td>\n",
       "      <td>0</td>\n",
       "    </tr>\n",
       "    <tr>\n",
       "      <th>3</th>\n",
       "      <td>2</td>\n",
       "      <td>2.25</td>\n",
       "      <td>1</td>\n",
       "      <td>5955</td>\n",
       "      <td>0</td>\n",
       "      <td>0</td>\n",
       "      <td>0</td>\n",
       "      <td>0</td>\n",
       "      <td>1</td>\n",
       "      <td>0</td>\n",
       "      <td>...</td>\n",
       "      <td>0</td>\n",
       "      <td>0</td>\n",
       "      <td>1</td>\n",
       "      <td>0</td>\n",
       "      <td>0</td>\n",
       "      <td>0</td>\n",
       "      <td>0</td>\n",
       "      <td>0</td>\n",
       "      <td>0</td>\n",
       "      <td>0</td>\n",
       "    </tr>\n",
       "    <tr>\n",
       "      <th>4</th>\n",
       "      <td>2</td>\n",
       "      <td>2.33</td>\n",
       "      <td>1</td>\n",
       "      <td>5955</td>\n",
       "      <td>0</td>\n",
       "      <td>0</td>\n",
       "      <td>0</td>\n",
       "      <td>0</td>\n",
       "      <td>1</td>\n",
       "      <td>0</td>\n",
       "      <td>...</td>\n",
       "      <td>0</td>\n",
       "      <td>0</td>\n",
       "      <td>1</td>\n",
       "      <td>0</td>\n",
       "      <td>0</td>\n",
       "      <td>0</td>\n",
       "      <td>0</td>\n",
       "      <td>1</td>\n",
       "      <td>0</td>\n",
       "      <td>0</td>\n",
       "    </tr>\n",
       "    <tr>\n",
       "      <th>...</th>\n",
       "      <td>...</td>\n",
       "      <td>...</td>\n",
       "      <td>...</td>\n",
       "      <td>...</td>\n",
       "      <td>...</td>\n",
       "      <td>...</td>\n",
       "      <td>...</td>\n",
       "      <td>...</td>\n",
       "      <td>...</td>\n",
       "      <td>...</td>\n",
       "      <td>...</td>\n",
       "      <td>...</td>\n",
       "      <td>...</td>\n",
       "      <td>...</td>\n",
       "      <td>...</td>\n",
       "      <td>...</td>\n",
       "      <td>...</td>\n",
       "      <td>...</td>\n",
       "      <td>...</td>\n",
       "      <td>...</td>\n",
       "      <td>...</td>\n",
       "    </tr>\n",
       "    <tr>\n",
       "      <th>300148</th>\n",
       "      <td>0</td>\n",
       "      <td>10.08</td>\n",
       "      <td>49</td>\n",
       "      <td>69265</td>\n",
       "      <td>0</td>\n",
       "      <td>0</td>\n",
       "      <td>0</td>\n",
       "      <td>0</td>\n",
       "      <td>1</td>\n",
       "      <td>1</td>\n",
       "      <td>...</td>\n",
       "      <td>0</td>\n",
       "      <td>0</td>\n",
       "      <td>1</td>\n",
       "      <td>0</td>\n",
       "      <td>0</td>\n",
       "      <td>1</td>\n",
       "      <td>0</td>\n",
       "      <td>0</td>\n",
       "      <td>0</td>\n",
       "      <td>1</td>\n",
       "    </tr>\n",
       "    <tr>\n",
       "      <th>300149</th>\n",
       "      <td>0</td>\n",
       "      <td>10.42</td>\n",
       "      <td>49</td>\n",
       "      <td>77105</td>\n",
       "      <td>0</td>\n",
       "      <td>0</td>\n",
       "      <td>0</td>\n",
       "      <td>0</td>\n",
       "      <td>1</td>\n",
       "      <td>1</td>\n",
       "      <td>...</td>\n",
       "      <td>0</td>\n",
       "      <td>0</td>\n",
       "      <td>0</td>\n",
       "      <td>0</td>\n",
       "      <td>0</td>\n",
       "      <td>0</td>\n",
       "      <td>0</td>\n",
       "      <td>0</td>\n",
       "      <td>1</td>\n",
       "      <td>1</td>\n",
       "    </tr>\n",
       "    <tr>\n",
       "      <th>300150</th>\n",
       "      <td>0</td>\n",
       "      <td>13.83</td>\n",
       "      <td>49</td>\n",
       "      <td>79099</td>\n",
       "      <td>0</td>\n",
       "      <td>0</td>\n",
       "      <td>0</td>\n",
       "      <td>0</td>\n",
       "      <td>1</td>\n",
       "      <td>1</td>\n",
       "      <td>...</td>\n",
       "      <td>0</td>\n",
       "      <td>0</td>\n",
       "      <td>0</td>\n",
       "      <td>0</td>\n",
       "      <td>0</td>\n",
       "      <td>0</td>\n",
       "      <td>0</td>\n",
       "      <td>0</td>\n",
       "      <td>1</td>\n",
       "      <td>1</td>\n",
       "    </tr>\n",
       "    <tr>\n",
       "      <th>300151</th>\n",
       "      <td>0</td>\n",
       "      <td>10.00</td>\n",
       "      <td>49</td>\n",
       "      <td>81585</td>\n",
       "      <td>0</td>\n",
       "      <td>0</td>\n",
       "      <td>0</td>\n",
       "      <td>0</td>\n",
       "      <td>1</td>\n",
       "      <td>1</td>\n",
       "      <td>...</td>\n",
       "      <td>0</td>\n",
       "      <td>0</td>\n",
       "      <td>0</td>\n",
       "      <td>0</td>\n",
       "      <td>0</td>\n",
       "      <td>1</td>\n",
       "      <td>0</td>\n",
       "      <td>0</td>\n",
       "      <td>0</td>\n",
       "      <td>1</td>\n",
       "    </tr>\n",
       "    <tr>\n",
       "      <th>300152</th>\n",
       "      <td>0</td>\n",
       "      <td>10.08</td>\n",
       "      <td>49</td>\n",
       "      <td>81585</td>\n",
       "      <td>0</td>\n",
       "      <td>0</td>\n",
       "      <td>0</td>\n",
       "      <td>0</td>\n",
       "      <td>1</td>\n",
       "      <td>1</td>\n",
       "      <td>...</td>\n",
       "      <td>0</td>\n",
       "      <td>0</td>\n",
       "      <td>1</td>\n",
       "      <td>0</td>\n",
       "      <td>0</td>\n",
       "      <td>1</td>\n",
       "      <td>0</td>\n",
       "      <td>0</td>\n",
       "      <td>0</td>\n",
       "      <td>1</td>\n",
       "    </tr>\n",
       "  </tbody>\n",
       "</table>\n",
       "<p>300153 rows × 30 columns</p>\n",
       "</div>"
      ],
      "text/plain": [
       "        stops  duration  days_left  price  airline_Air_India  \\\n",
       "0           2      2.17          1   5953                  0   \n",
       "1           2      2.33          1   5953                  0   \n",
       "2           2      2.17          1   5956                  0   \n",
       "3           2      2.25          1   5955                  0   \n",
       "4           2      2.33          1   5955                  0   \n",
       "...       ...       ...        ...    ...                ...   \n",
       "300148      0     10.08         49  69265                  0   \n",
       "300149      0     10.42         49  77105                  0   \n",
       "300150      0     13.83         49  79099                  0   \n",
       "300151      0     10.00         49  81585                  0   \n",
       "300152      0     10.08         49  81585                  0   \n",
       "\n",
       "        airline_GO_FIRST  airline_Indigo  airline_SpiceJet  airline_Vistara  \\\n",
       "0                      0               0                 1                0   \n",
       "1                      0               0                 1                0   \n",
       "2                      0               0                 0                0   \n",
       "3                      0               0                 0                1   \n",
       "4                      0               0                 0                1   \n",
       "...                  ...             ...               ...              ...   \n",
       "300148                 0               0                 0                1   \n",
       "300149                 0               0                 0                1   \n",
       "300150                 0               0                 0                1   \n",
       "300151                 0               0                 0                1   \n",
       "300152                 0               0                 0                1   \n",
       "\n",
       "        source_city_Chennai  ...  departure_time_Evening  \\\n",
       "0                         0  ...                       1   \n",
       "1                         0  ...                       0   \n",
       "2                         0  ...                       0   \n",
       "3                         0  ...                       0   \n",
       "4                         0  ...                       0   \n",
       "...                     ...  ...                     ...   \n",
       "300148                    1  ...                       0   \n",
       "300149                    1  ...                       0   \n",
       "300150                    1  ...                       0   \n",
       "300151                    1  ...                       0   \n",
       "300152                    1  ...                       0   \n",
       "\n",
       "        departure_time_Late_Night  departure_time_Morning  \\\n",
       "0                               0                       0   \n",
       "1                               0                       0   \n",
       "2                               0                       0   \n",
       "3                               0                       1   \n",
       "4                               0                       1   \n",
       "...                           ...                     ...   \n",
       "300148                          0                       1   \n",
       "300149                          0                       0   \n",
       "300150                          0                       0   \n",
       "300151                          0                       0   \n",
       "300152                          0                       1   \n",
       "\n",
       "        departure_time_Night  arrival_time_Early_Morning  \\\n",
       "0                          0                           0   \n",
       "1                          0                           0   \n",
       "2                          0                           1   \n",
       "3                          0                           0   \n",
       "4                          0                           0   \n",
       "...                      ...                         ...   \n",
       "300148                     0                           0   \n",
       "300149                     0                           0   \n",
       "300150                     0                           0   \n",
       "300151                     0                           0   \n",
       "300152                     0                           0   \n",
       "\n",
       "        arrival_time_Evening  arrival_time_Late_Night  arrival_time_Morning  \\\n",
       "0                          0                        0                     0   \n",
       "1                          0                        0                     1   \n",
       "2                          0                        0                     0   \n",
       "3                          0                        0                     0   \n",
       "4                          0                        0                     1   \n",
       "...                      ...                      ...                   ...   \n",
       "300148                     1                        0                     0   \n",
       "300149                     0                        0                     0   \n",
       "300150                     0                        0                     0   \n",
       "300151                     1                        0                     0   \n",
       "300152                     1                        0                     0   \n",
       "\n",
       "        arrival_time_Night  class_1  \n",
       "0                        1        0  \n",
       "1                        0        0  \n",
       "2                        0        0  \n",
       "3                        0        0  \n",
       "4                        0        0  \n",
       "...                    ...      ...  \n",
       "300148                   0        1  \n",
       "300149                   1        1  \n",
       "300150                   1        1  \n",
       "300151                   0        1  \n",
       "300152                   0        1  \n",
       "\n",
       "[300153 rows x 30 columns]"
      ]
     },
     "execution_count": 8,
     "metadata": {},
     "output_type": "execute_result"
    }
   ],
   "source": [
    "df"
   ]
  },
  {
   "cell_type": "markdown",
   "id": "25d37ef8-bc9e-4a26-9f96-352b9504682f",
   "metadata": {
    "id": "25d37ef8-bc9e-4a26-9f96-352b9504682f"
   },
   "source": [
    "#### Transform stops"
   ]
  },
  {
   "cell_type": "markdown",
   "id": "9d0aa495-c097-4c88-a9a5-0c891c78028a",
   "metadata": {
    "id": "9d0aa495-c097-4c88-a9a5-0c891c78028a"
   },
   "source": [
    "#### Feature scaling for Numerical data"
   ]
  },
  {
   "cell_type": "code",
   "execution_count": 9,
   "id": "add03352-63f3-41f9-b382-95c70a1a096b",
   "metadata": {
    "id": "add03352-63f3-41f9-b382-95c70a1a096b"
   },
   "outputs": [],
   "source": [
    "from sklearn.preprocessing import StandardScaler\n",
    "\n",
    "scaler = StandardScaler()\n",
    "df[['duration', 'days_left', 'price']] = scaler.fit_transform(df[['duration', 'days_left', 'price']])"
   ]
  },
  {
   "cell_type": "markdown",
   "id": "4c060bd8-24d5-4dcc-9075-c673efe0b4da",
   "metadata": {
    "id": "4c060bd8-24d5-4dcc-9075-c673efe0b4da"
   },
   "source": [
    "#### Create interaction features"
   ]
  },
  {
   "cell_type": "code",
   "execution_count": 10,
   "id": "7ec61279-6823-4f94-91e1-428ced2a6a28",
   "metadata": {
    "colab": {
     "base_uri": "https://localhost:8080/"
    },
    "id": "7ec61279-6823-4f94-91e1-428ced2a6a28",
    "outputId": "9b0a750f-eea0-4feb-abaa-b18dc5868afa"
   },
   "outputs": [
    {
     "name": "stdout",
     "output_type": "stream",
     "text": [
      "   source_city_active  destination_city_active  route  price_per_hour\n",
      "0                   1                        4      8        0.470879\n",
      "1                   1                        4      8        0.478497\n",
      "2                   1                        4      8        0.470785\n",
      "3                   1                        4      8        0.474594\n",
      "4                   1                        4      8        0.478432\n"
     ]
    }
   ],
   "source": [
    "from sklearn.preprocessing import LabelEncoder\n",
    "\n",
    "# Ensure the columns in source_cities and destination_cities are numeric\n",
    "source_cities = [col for col in df.columns if col.startswith('source_city_')]\n",
    "destination_cities = [col for col in df.columns if col.startswith('destination_city_')]\n",
    "\n",
    "# Convert the columns to numeric if they are not already\n",
    "df[source_cities] = df[source_cities].apply(pd.to_numeric, errors='coerce')\n",
    "df[destination_cities] = df[destination_cities].apply(pd.to_numeric, errors='coerce')\n",
    "\n",
    "# Identify the active city for source and destination\n",
    "df['source_city_active'] = df[source_cities].idxmax(axis=1).str.replace('source_city_', '')\n",
    "df['destination_city_active'] = df[destination_cities].idxmax(axis=1).str.replace('destination_city_', '')\n",
    "\n",
    "# Create the 'route' column\n",
    "df['route'] = df['source_city_active'] + ' to ' + df['destination_city_active']\n",
    "\n",
    "# Create the 'price_per_hour' column\n",
    "df['price_per_hour'] = df['price'] / df['duration']\n",
    "\n",
    "\n",
    "# Apply LabelEncoder to categorical columns\n",
    "for col in ['source_city_active', 'destination_city_active', 'route']:\n",
    "    le = LabelEncoder()\n",
    "    df[col] = le.fit_transform(df[col])\n",
    "\n",
    "# Display the new features\n",
    "print(df[['source_city_active', 'destination_city_active', 'route', 'price_per_hour']].head())\n",
    "\n",
    "\n",
    "\n"
   ]
  },
  {
   "cell_type": "markdown",
   "id": "IQI_vxQSYYE1",
   "metadata": {
    "id": "IQI_vxQSYYE1"
   },
   "source": [
    "## 5. Model Building and Training 🤖\n"
   ]
  },
  {
   "cell_type": "code",
   "execution_count": 11,
   "id": "703d5a5e-fd4a-4d86-a993-077a4854930d",
   "metadata": {
    "id": "703d5a5e-fd4a-4d86-a993-077a4854930d"
   },
   "outputs": [],
   "source": [
    "from sklearn.model_selection import train_test_split, cross_val_score\n",
    "from sklearn.ensemble import RandomForestRegressor\n",
    "import xgboost as xgb\n",
    "from sklearn.tree import DecisionTreeRegressor"
   ]
  },
  {
   "cell_type": "markdown",
   "id": "90518abf-8d17-4f29-b53f-45443a025da8",
   "metadata": {
    "id": "90518abf-8d17-4f29-b53f-45443a025da8"
   },
   "source": [
    "#### Feature-target split"
   ]
  },
  {
   "cell_type": "code",
   "execution_count": 12,
   "id": "39a4bbda-2085-466c-9871-442e3a2cdc9d",
   "metadata": {
    "id": "39a4bbda-2085-466c-9871-442e3a2cdc9d"
   },
   "outputs": [],
   "source": [
    "X = df.drop(['price'], axis=1)  #feature\n",
    "y = df['price'] #target"
   ]
  },
  {
   "cell_type": "markdown",
   "id": "244882d9-33e6-46cb-93bc-798a8071a2f9",
   "metadata": {
    "id": "244882d9-33e6-46cb-93bc-798a8071a2f9"
   },
   "source": [
    "#### Train-test split"
   ]
  },
  {
   "cell_type": "code",
   "execution_count": 13,
   "id": "4aa95cae-6701-4ff0-a30d-ad843eb1a9d8",
   "metadata": {
    "id": "4aa95cae-6701-4ff0-a30d-ad843eb1a9d8"
   },
   "outputs": [],
   "source": [
    "X_train, X_test, y_train, y_test = train_test_split(X, y, test_size=0.2, random_state=42)"
   ]
  },
  {
   "cell_type": "code",
   "execution_count": 14,
   "id": "389cf311-a2d3-45cd-a55d-c63cc563cfc2",
   "metadata": {
    "id": "389cf311-a2d3-45cd-a55d-c63cc563cfc2"
   },
   "outputs": [],
   "source": [
    "X_train.reset_index(drop=True, inplace=True)\n",
    "X_test.reset_index(drop=True, inplace=True)\n",
    "y_train.reset_index(drop=True, inplace=True)\n",
    "y_test.reset_index(drop=True, inplace=True)"
   ]
  },
  {
   "cell_type": "markdown",
   "id": "42d6955d-10d5-4062-8592-1cebbae766fc",
   "metadata": {
    "id": "42d6955d-10d5-4062-8592-1cebbae766fc"
   },
   "source": [
    "#### Print shape of training and testing data"
   ]
  },
  {
   "cell_type": "code",
   "execution_count": 15,
   "id": "a7745c87-bc2b-4efb-a309-0b46ed0f8140",
   "metadata": {
    "colab": {
     "base_uri": "https://localhost:8080/"
    },
    "id": "a7745c87-bc2b-4efb-a309-0b46ed0f8140",
    "outputId": "756cda2e-4564-4902-cf25-3f1fd8444fb7"
   },
   "outputs": [
    {
     "name": "stdout",
     "output_type": "stream",
     "text": [
      "X_train shape: (240122, 33)\n",
      "X_test shape: (60031, 33)\n",
      "y_train shape: (240122,)\n",
      "y_test shape: (60031,)\n"
     ]
    }
   ],
   "source": [
    "print(\"X_train shape:\", X_train.shape)\n",
    "print(\"X_test shape:\", X_test.shape)\n",
    "print(\"y_train shape:\", y_train.shape)\n",
    "print(\"y_test shape:\", y_test.shape)"
   ]
  },
  {
   "cell_type": "markdown",
   "id": "11290527-6c63-44d6-9061-d6816d573020",
   "metadata": {
    "id": "11290527-6c63-44d6-9061-d6816d573020"
   },
   "source": [
    "#### Define the models"
   ]
  },
  {
   "cell_type": "code",
   "execution_count": 16,
   "id": "53e7f98c-0302-4bba-ae9d-e7b032263a2e",
   "metadata": {
    "id": "53e7f98c-0302-4bba-ae9d-e7b032263a2e"
   },
   "outputs": [],
   "source": [
    "rf_model = RandomForestRegressor(random_state=42)\n",
    "xgb_model = xgb.XGBRegressor(random_state=42)\n",
    "dt_model = DecisionTreeRegressor(random_state=42)"
   ]
  },
  {
   "cell_type": "markdown",
   "id": "77a3efc7-8137-45e8-b625-b40e0cd4de13",
   "metadata": {
    "id": "77a3efc7-8137-45e8-b625-b40e0cd4de13"
   },
   "source": [
    "#### Perform cross-validation"
   ]
  },
  {
   "cell_type": "code",
   "execution_count": 17,
   "id": "145d8485-e056-46e1-ade9-60c030b12a9b",
   "metadata": {
    "id": "145d8485-e056-46e1-ade9-60c030b12a9b"
   },
   "outputs": [],
   "source": [
    "from sklearn.utils import shuffle\n",
    "\n",
    "X_train_small, y_train_small = shuffle(X_train, y_train, random_state=42, n_samples=10000)\n",
    "rf_cv_scores = cross_val_score(rf_model, X_train, y_train, cv=5, scoring='neg_mean_squared_error')\n",
    "xgb_cv_scores = cross_val_score(xgb_model, X_train, y_train, cv=5, scoring='neg_mean_squared_error')\n",
    "dt_cv_scores = cross_val_score(dt_model, X_train, y_train, cv=5, scoring='neg_mean_squared_error')"
   ]
  },
  {
   "cell_type": "markdown",
   "id": "ec572d64-a116-43da-9d22-6bfdd9bb2f07",
   "metadata": {
    "id": "ec572d64-a116-43da-9d22-6bfdd9bb2f07"
   },
   "source": [
    "#### Calculate mean and standard deviation of the cross-validation scores"
   ]
  },
  {
   "cell_type": "code",
   "execution_count": 18,
   "id": "3da692d5-e573-44bd-8017-eede2a00990b",
   "metadata": {
    "id": "3da692d5-e573-44bd-8017-eede2a00990b"
   },
   "outputs": [
    {
     "name": "stdout",
     "output_type": "stream",
     "text": [
      "Random Forest Mean CV Score: 0.0020 (Std: 0.0001)\n",
      "XGBoost Mean CV Score: 0.0027 (Std: 0.0001)\n",
      "Decision Tree Mean CV Score: 0.0036 (Std: 0.0002)\n"
     ]
    }
   ],
   "source": [
    "print(f\"Random Forest Mean CV Score: {-rf_cv_scores.mean():.4f} (Std: {rf_cv_scores.std():.4f})\")\n",
    "print(f\"XGBoost Mean CV Score: {-xgb_cv_scores.mean():.4f} (Std: {xgb_cv_scores.std():.4f})\")\n",
    "print(f\"Decision Tree Mean CV Score: {-dt_cv_scores.mean():.4f} (Std: {dt_cv_scores.std():.4f})\")"
   ]
  },
  {
   "cell_type": "markdown",
   "id": "ab4c6c05-db7e-4bcf-87a9-9b1dff9a2cbb",
   "metadata": {
    "id": "ab4c6c05-db7e-4bcf-87a9-9b1dff9a2cbb"
   },
   "source": [
    "### Train and predict with **Random Forest**"
   ]
  },
  {
   "cell_type": "code",
   "execution_count": 19,
   "id": "d5ad5a18-985f-4838-90d9-e888b457866e",
   "metadata": {
    "id": "d5ad5a18-985f-4838-90d9-e888b457866e"
   },
   "outputs": [
    {
     "name": "stdout",
     "output_type": "stream",
     "text": [
      "Random Forest Test Score: 0.9981\n"
     ]
    }
   ],
   "source": [
    "rf_model.fit(X_train, y_train)\n",
    "\n",
    "rf_predictions = rf_model.predict(X_test)\n",
    "\n",
    "rf_score = rf_model.score(X_test, y_test)\n",
    "print(f\"Random Forest Test Score: {rf_score:.4f}\")"
   ]
  },
  {
   "cell_type": "markdown",
   "id": "198b954d-c806-40bb-82de-65a79d7fe58e",
   "metadata": {
    "id": "198b954d-c806-40bb-82de-65a79d7fe58e"
   },
   "source": [
    "### Train and predict with **XGBoost**"
   ]
  },
  {
   "cell_type": "code",
   "execution_count": 20,
   "id": "ff940261-08de-4797-aeec-0f34ffb74613",
   "metadata": {
    "id": "ff940261-08de-4797-aeec-0f34ffb74613"
   },
   "outputs": [
    {
     "name": "stdout",
     "output_type": "stream",
     "text": [
      "XGBoost Test Score: 0.9973\n"
     ]
    }
   ],
   "source": [
    "xgb_model.fit(X_train, y_train)\n",
    "\n",
    "xgb_predictions = xgb_model.predict(X_test)\n",
    "\n",
    "xgb_score = xgb_model.score(X_test, y_test)\n",
    "print(f\"XGBoost R² Score: {xgb_score:.4f}\")"
   ]
  },
  {
   "cell_type": "markdown",
   "id": "5c422779-b330-4a24-acee-d6af3fb1b654",
   "metadata": {
    "id": "5c422779-b330-4a24-acee-d6af3fb1b654"
   },
   "source": [
    "### Train and predict with **Decision Tree**"
   ]
  },
  {
   "cell_type": "code",
   "execution_count": 21,
   "id": "b1488c34-24ef-4a36-87a9-e1954f9ad8e9",
   "metadata": {
    "id": "b1488c34-24ef-4a36-87a9-e1954f9ad8e9"
   },
   "outputs": [
    {
     "name": "stdout",
     "output_type": "stream",
     "text": [
      "Decision Tree Test Score: 0.9968\n"
     ]
    }
   ],
   "source": [
    "dt_model.fit(X_train, y_train)\n",
    "\n",
    "dt_predictions = dt_model.predict(X_test)\n",
    "\n",
    "dt_score = dt_model.score(X_test, y_test)\n",
    "print(f\"Decision Tree R² Score: {dt_score:.4f}\")"
   ]
  },
  {
   "cell_type": "markdown",
   "id": "9728db48-a797-4ba3-83f8-19afa4fd2556",
   "metadata": {},
   "source": [
    "#### Train and predict with CatBoost"
   ]
  },
  {
   "cell_type": "code",
   "execution_count": 22,
   "id": "7a7331e9-f4cc-4780-acb7-c5d7d82ad12f",
   "metadata": {},
   "outputs": [
    {
     "name": "stdout",
     "output_type": "stream",
     "text": [
      "CatBoost R² Score: 0.9979\n"
     ]
    }
   ],
   "source": [
    "from catboost import CatBoostRegressor\n",
    "from sklearn.metrics import r2_score\n",
    "catboost_model = CatBoostRegressor(random_state=42, verbose=0) \n",
    "\n",
    "# Train and evaluate CatBoost\n",
    "catboost_model.fit(X_train, y_train)\n",
    "catboost_predictions = catboost_model.predict(X_test)\n",
    "catboost_score = r2_score(y_test, catboost_predictions)\n",
    "print(f\"CatBoost R² Score: {catboost_score:.4f}\")"
   ]
  },
  {
   "cell_type": "markdown",
   "id": "e854684d-221c-4d60-abb6-8abcd44c8d88",
   "metadata": {},
   "source": [
    "#### Train and predict with LightGBM"
   ]
  },
  {
   "cell_type": "code",
   "execution_count": 23,
   "id": "cb5e85ed-8631-43cc-8372-15352fc24203",
   "metadata": {},
   "outputs": [
    {
     "name": "stdout",
     "output_type": "stream",
     "text": [
      "[LightGBM] [Info] Auto-choosing row-wise multi-threading, the overhead of testing was 0.015425 seconds.\n",
      "You can set `force_row_wise=true` to remove the overhead.\n",
      "And if memory is not enough, you can set `force_col_wise=true`.\n",
      "[LightGBM] [Info] Total Bins 646\n",
      "[LightGBM] [Info] Number of data points in the train set: 240122, number of used features: 33\n",
      "[LightGBM] [Info] Start training from score -0.000048\n",
      "LightGBM R² Score: 0.9915\n"
     ]
    }
   ],
   "source": [
    "from lightgbm import LGBMRegressor\n",
    "from sklearn.metrics import r2_score\n",
    "\n",
    "lightgbm_model = LGBMRegressor(random_state=42)\n",
    "lightgbm_model.fit(X_train, y_train)\n",
    "lightgbm_predictions = lightgbm_model.predict(X_test)\n",
    "lightgbm_score = r2_score(y_test, lightgbm_predictions)\n",
    "print(f\"LightGBM R² Score: {lightgbm_score:.4f}\")"
   ]
  },
  {
   "cell_type": "code",
   "execution_count": null,
   "id": "12cc186b-4695-44ee-8378-94ccda462392",
   "metadata": {},
   "outputs": [],
   "source": []
  },
  {
   "cell_type": "markdown",
   "id": "1378fa92-e9d3-496c-9375-3b478902bff0",
   "metadata": {
    "id": "1378fa92-e9d3-496c-9375-3b478902bff0"
   },
   "source": [
    "#### Compare the models based on their performance"
   ]
  },
  {
   "cell_type": "code",
   "execution_count": 24,
   "id": "0ff9b8b0-6d15-40c1-b2fa-99473223d685",
   "metadata": {
    "id": "0ff9b8b0-6d15-40c1-b2fa-99473223d685"
   },
   "outputs": [
    {
     "name": "stdout",
     "output_type": "stream",
     "text": [
      "The most suitable model for this dataset is: Random Forest\n"
     ]
    }
   ],
   "source": [
    "models_scores = {\n",
    "    'Random Forest': rf_score,\n",
    "    'XGBoost': xgb_score,\n",
    "    'Decision Tree': dt_score,\n",
    "    'CatBoost' : catboost_score,\n",
    "    'LightGBM' : lightgbm_score\n",
    "}\n",
    "\n",
    "best_model = max(models_scores, key=models_scores.get)\n",
    "print(f\"The most suitable model for this dataset is: {best_model}\")"
   ]
  },
  {
   "cell_type": "code",
   "execution_count": null,
   "id": "c2bec964-b4af-4b1f-bdd1-5026cc7edcd1",
   "metadata": {},
   "outputs": [],
   "source": []
  },
  {
   "cell_type": "markdown",
   "id": "un_dcjhGY0bw",
   "metadata": {
    "id": "un_dcjhGY0bw"
   },
   "source": [
    "## 6. Model Evaluation 📊\n"
   ]
  },
  {
   "cell_type": "markdown",
   "id": "50be36bc-1069-4718-abd5-c27b17741d1b",
   "metadata": {
    "id": "50be36bc-1069-4718-abd5-c27b17741d1b"
   },
   "source": [
    "##### This accuracy indicates how well the independent variables (features) predict the dependent variable (target)"
   ]
  },
  {
   "cell_type": "markdown",
   "id": "3c239eb4-1d07-4e6c-9c10-b123db7f9c41",
   "metadata": {
    "id": "3c239eb4-1d07-4e6c-9c10-b123db7f9c41"
   },
   "source": [
    "### Hyper parameter tuning"
   ]
  },
  {
   "cell_type": "code",
   "execution_count": 25,
   "id": "5d4e9587-1671-41b9-8170-253e321473ea",
   "metadata": {
    "id": "5d4e9587-1671-41b9-8170-253e321473ea"
   },
   "outputs": [],
   "source": [
    "import numpy as np\n",
    "from sklearn.ensemble import RandomForestClassifier\n",
    "from sklearn.model_selection import RandomizedSearchCV, cross_val_score\n",
    "from sklearn.metrics import classification_report, confusion_matrix\n",
    "import pandas as pd"
   ]
  },
  {
   "cell_type": "markdown",
   "id": "c63dd968-a187-4cf2-b520-4851683f7339",
   "metadata": {
    "id": "c63dd968-a187-4cf2-b520-4851683f7339"
   },
   "source": [
    "#### Define the hyperparameter grid"
   ]
  },
  {
   "cell_type": "code",
   "execution_count": 36,
   "id": "9a1fe08a-3d22-4663-a59b-a854f267109d",
   "metadata": {
    "id": "9a1fe08a-3d22-4663-a59b-a854f267109d"
   },
   "outputs": [],
   "source": [
    "param_dist = {\n",
    "    'n_estimators': np.arange(100, 1000, 100),\n",
    "    'max_depth': [None] + list(np.arange(10, 110, 10)),\n",
    "    'min_samples_split': np.arange(2, 12, 2),\n",
    "    'min_samples_leaf': np.arange(1, 6),\n",
    "    'max_features': ['sqrt', 'log2', None, 0.5, 1.0],\n",
    "    'bootstrap': [True, False]\n",
    "}"
   ]
  },
  {
   "cell_type": "markdown",
   "id": "f5752a67-64dc-4e47-a3dd-fffd6cd09299",
   "metadata": {
    "id": "f5752a67-64dc-4e47-a3dd-fffd6cd09299"
   },
   "source": [
    "#### Configure RandomizedSearchCV"
   ]
  },
  {
   "cell_type": "code",
   "execution_count": 37,
   "id": "dfd7d1f8-70f3-419e-bedc-b309bcf2e707",
   "metadata": {
    "id": "dfd7d1f8-70f3-419e-bedc-b309bcf2e707"
   },
   "outputs": [],
   "source": [
    "rf_random = RandomizedSearchCV(\n",
    "    estimator=rf_model,\n",
    "    param_distributions=param_dist,\n",
    "    n_iter=10,\n",
    "    cv=5,\n",
    "    verbose=2,\n",
    "    random_state=42,\n",
    "    n_jobs=-1\n",
    ")"
   ]
  },
  {
   "cell_type": "markdown",
   "id": "3ffc81c8-f92b-409b-b5be-c66f4fd72f6b",
   "metadata": {
    "id": "3ffc81c8-f92b-409b-b5be-c66f4fd72f6b"
   },
   "source": [
    "#### Fit RandomizedSearchCV"
   ]
  },
  {
   "cell_type": "code",
   "execution_count": 38,
   "id": "1b1fbd47-0d2c-44b9-a1f3-7bbfaca342be",
   "metadata": {},
   "outputs": [],
   "source": [
    "df_sampled = df.sample(n=1000, random_state=42)"
   ]
  },
  {
   "cell_type": "code",
   "execution_count": 39,
   "id": "4602a0ba-7f7e-4183-8551-3f9bebb6546c",
   "metadata": {},
   "outputs": [],
   "source": [
    "x1 = df_sampled.drop(['price'], axis=1)  #feature\n",
    "Y1 = df_sampled['price'] #target\n",
    "\n",
    "x1_train, x1_test, Y1_train, Y1_test = train_test_split(x1, Y1, test_size=0.2, random_state=42)"
   ]
  },
  {
   "cell_type": "code",
   "execution_count": 40,
   "id": "2b91b313-9d61-48fa-ab22-2bdee65cb5a6",
   "metadata": {
    "id": "2b91b313-9d61-48fa-ab22-2bdee65cb5a6"
   },
   "outputs": [
    {
     "name": "stdout",
     "output_type": "stream",
     "text": [
      "Fitting 5 folds for each of 10 candidates, totalling 50 fits\n"
     ]
    },
    {
     "data": {
      "text/html": [
       "<style>#sk-container-id-2 {\n",
       "  /* Definition of color scheme common for light and dark mode */\n",
       "  --sklearn-color-text: black;\n",
       "  --sklearn-color-line: gray;\n",
       "  /* Definition of color scheme for unfitted estimators */\n",
       "  --sklearn-color-unfitted-level-0: #fff5e6;\n",
       "  --sklearn-color-unfitted-level-1: #f6e4d2;\n",
       "  --sklearn-color-unfitted-level-2: #ffe0b3;\n",
       "  --sklearn-color-unfitted-level-3: chocolate;\n",
       "  /* Definition of color scheme for fitted estimators */\n",
       "  --sklearn-color-fitted-level-0: #f0f8ff;\n",
       "  --sklearn-color-fitted-level-1: #d4ebff;\n",
       "  --sklearn-color-fitted-level-2: #b3dbfd;\n",
       "  --sklearn-color-fitted-level-3: cornflowerblue;\n",
       "\n",
       "  /* Specific color for light theme */\n",
       "  --sklearn-color-text-on-default-background: var(--sg-text-color, var(--theme-code-foreground, var(--jp-content-font-color1, black)));\n",
       "  --sklearn-color-background: var(--sg-background-color, var(--theme-background, var(--jp-layout-color0, white)));\n",
       "  --sklearn-color-border-box: var(--sg-text-color, var(--theme-code-foreground, var(--jp-content-font-color1, black)));\n",
       "  --sklearn-color-icon: #696969;\n",
       "\n",
       "  @media (prefers-color-scheme: dark) {\n",
       "    /* Redefinition of color scheme for dark theme */\n",
       "    --sklearn-color-text-on-default-background: var(--sg-text-color, var(--theme-code-foreground, var(--jp-content-font-color1, white)));\n",
       "    --sklearn-color-background: var(--sg-background-color, var(--theme-background, var(--jp-layout-color0, #111)));\n",
       "    --sklearn-color-border-box: var(--sg-text-color, var(--theme-code-foreground, var(--jp-content-font-color1, white)));\n",
       "    --sklearn-color-icon: #878787;\n",
       "  }\n",
       "}\n",
       "\n",
       "#sk-container-id-2 {\n",
       "  color: var(--sklearn-color-text);\n",
       "}\n",
       "\n",
       "#sk-container-id-2 pre {\n",
       "  padding: 0;\n",
       "}\n",
       "\n",
       "#sk-container-id-2 input.sk-hidden--visually {\n",
       "  border: 0;\n",
       "  clip: rect(1px 1px 1px 1px);\n",
       "  clip: rect(1px, 1px, 1px, 1px);\n",
       "  height: 1px;\n",
       "  margin: -1px;\n",
       "  overflow: hidden;\n",
       "  padding: 0;\n",
       "  position: absolute;\n",
       "  width: 1px;\n",
       "}\n",
       "\n",
       "#sk-container-id-2 div.sk-dashed-wrapped {\n",
       "  border: 1px dashed var(--sklearn-color-line);\n",
       "  margin: 0 0.4em 0.5em 0.4em;\n",
       "  box-sizing: border-box;\n",
       "  padding-bottom: 0.4em;\n",
       "  background-color: var(--sklearn-color-background);\n",
       "}\n",
       "\n",
       "#sk-container-id-2 div.sk-container {\n",
       "  /* jupyter's `normalize.less` sets `[hidden] { display: none; }`\n",
       "     but bootstrap.min.css set `[hidden] { display: none !important; }`\n",
       "     so we also need the `!important` here to be able to override the\n",
       "     default hidden behavior on the sphinx rendered scikit-learn.org.\n",
       "     See: https://github.com/scikit-learn/scikit-learn/issues/21755 */\n",
       "  display: inline-block !important;\n",
       "  position: relative;\n",
       "}\n",
       "\n",
       "#sk-container-id-2 div.sk-text-repr-fallback {\n",
       "  display: none;\n",
       "}\n",
       "\n",
       "div.sk-parallel-item,\n",
       "div.sk-serial,\n",
       "div.sk-item {\n",
       "  /* draw centered vertical line to link estimators */\n",
       "  background-image: linear-gradient(var(--sklearn-color-text-on-default-background), var(--sklearn-color-text-on-default-background));\n",
       "  background-size: 2px 100%;\n",
       "  background-repeat: no-repeat;\n",
       "  background-position: center center;\n",
       "}\n",
       "\n",
       "/* Parallel-specific style estimator block */\n",
       "\n",
       "#sk-container-id-2 div.sk-parallel-item::after {\n",
       "  content: \"\";\n",
       "  width: 100%;\n",
       "  border-bottom: 2px solid var(--sklearn-color-text-on-default-background);\n",
       "  flex-grow: 1;\n",
       "}\n",
       "\n",
       "#sk-container-id-2 div.sk-parallel {\n",
       "  display: flex;\n",
       "  align-items: stretch;\n",
       "  justify-content: center;\n",
       "  background-color: var(--sklearn-color-background);\n",
       "  position: relative;\n",
       "}\n",
       "\n",
       "#sk-container-id-2 div.sk-parallel-item {\n",
       "  display: flex;\n",
       "  flex-direction: column;\n",
       "}\n",
       "\n",
       "#sk-container-id-2 div.sk-parallel-item:first-child::after {\n",
       "  align-self: flex-end;\n",
       "  width: 50%;\n",
       "}\n",
       "\n",
       "#sk-container-id-2 div.sk-parallel-item:last-child::after {\n",
       "  align-self: flex-start;\n",
       "  width: 50%;\n",
       "}\n",
       "\n",
       "#sk-container-id-2 div.sk-parallel-item:only-child::after {\n",
       "  width: 0;\n",
       "}\n",
       "\n",
       "/* Serial-specific style estimator block */\n",
       "\n",
       "#sk-container-id-2 div.sk-serial {\n",
       "  display: flex;\n",
       "  flex-direction: column;\n",
       "  align-items: center;\n",
       "  background-color: var(--sklearn-color-background);\n",
       "  padding-right: 1em;\n",
       "  padding-left: 1em;\n",
       "}\n",
       "\n",
       "\n",
       "/* Toggleable style: style used for estimator/Pipeline/ColumnTransformer box that is\n",
       "clickable and can be expanded/collapsed.\n",
       "- Pipeline and ColumnTransformer use this feature and define the default style\n",
       "- Estimators will overwrite some part of the style using the `sk-estimator` class\n",
       "*/\n",
       "\n",
       "/* Pipeline and ColumnTransformer style (default) */\n",
       "\n",
       "#sk-container-id-2 div.sk-toggleable {\n",
       "  /* Default theme specific background. It is overwritten whether we have a\n",
       "  specific estimator or a Pipeline/ColumnTransformer */\n",
       "  background-color: var(--sklearn-color-background);\n",
       "}\n",
       "\n",
       "/* Toggleable label */\n",
       "#sk-container-id-2 label.sk-toggleable__label {\n",
       "  cursor: pointer;\n",
       "  display: block;\n",
       "  width: 100%;\n",
       "  margin-bottom: 0;\n",
       "  padding: 0.5em;\n",
       "  box-sizing: border-box;\n",
       "  text-align: center;\n",
       "}\n",
       "\n",
       "#sk-container-id-2 label.sk-toggleable__label-arrow:before {\n",
       "  /* Arrow on the left of the label */\n",
       "  content: \"▸\";\n",
       "  float: left;\n",
       "  margin-right: 0.25em;\n",
       "  color: var(--sklearn-color-icon);\n",
       "}\n",
       "\n",
       "#sk-container-id-2 label.sk-toggleable__label-arrow:hover:before {\n",
       "  color: var(--sklearn-color-text);\n",
       "}\n",
       "\n",
       "/* Toggleable content - dropdown */\n",
       "\n",
       "#sk-container-id-2 div.sk-toggleable__content {\n",
       "  max-height: 0;\n",
       "  max-width: 0;\n",
       "  overflow: hidden;\n",
       "  text-align: left;\n",
       "  /* unfitted */\n",
       "  background-color: var(--sklearn-color-unfitted-level-0);\n",
       "}\n",
       "\n",
       "#sk-container-id-2 div.sk-toggleable__content.fitted {\n",
       "  /* fitted */\n",
       "  background-color: var(--sklearn-color-fitted-level-0);\n",
       "}\n",
       "\n",
       "#sk-container-id-2 div.sk-toggleable__content pre {\n",
       "  margin: 0.2em;\n",
       "  border-radius: 0.25em;\n",
       "  color: var(--sklearn-color-text);\n",
       "  /* unfitted */\n",
       "  background-color: var(--sklearn-color-unfitted-level-0);\n",
       "}\n",
       "\n",
       "#sk-container-id-2 div.sk-toggleable__content.fitted pre {\n",
       "  /* unfitted */\n",
       "  background-color: var(--sklearn-color-fitted-level-0);\n",
       "}\n",
       "\n",
       "#sk-container-id-2 input.sk-toggleable__control:checked~div.sk-toggleable__content {\n",
       "  /* Expand drop-down */\n",
       "  max-height: 200px;\n",
       "  max-width: 100%;\n",
       "  overflow: auto;\n",
       "}\n",
       "\n",
       "#sk-container-id-2 input.sk-toggleable__control:checked~label.sk-toggleable__label-arrow:before {\n",
       "  content: \"▾\";\n",
       "}\n",
       "\n",
       "/* Pipeline/ColumnTransformer-specific style */\n",
       "\n",
       "#sk-container-id-2 div.sk-label input.sk-toggleable__control:checked~label.sk-toggleable__label {\n",
       "  color: var(--sklearn-color-text);\n",
       "  background-color: var(--sklearn-color-unfitted-level-2);\n",
       "}\n",
       "\n",
       "#sk-container-id-2 div.sk-label.fitted input.sk-toggleable__control:checked~label.sk-toggleable__label {\n",
       "  background-color: var(--sklearn-color-fitted-level-2);\n",
       "}\n",
       "\n",
       "/* Estimator-specific style */\n",
       "\n",
       "/* Colorize estimator box */\n",
       "#sk-container-id-2 div.sk-estimator input.sk-toggleable__control:checked~label.sk-toggleable__label {\n",
       "  /* unfitted */\n",
       "  background-color: var(--sklearn-color-unfitted-level-2);\n",
       "}\n",
       "\n",
       "#sk-container-id-2 div.sk-estimator.fitted input.sk-toggleable__control:checked~label.sk-toggleable__label {\n",
       "  /* fitted */\n",
       "  background-color: var(--sklearn-color-fitted-level-2);\n",
       "}\n",
       "\n",
       "#sk-container-id-2 div.sk-label label.sk-toggleable__label,\n",
       "#sk-container-id-2 div.sk-label label {\n",
       "  /* The background is the default theme color */\n",
       "  color: var(--sklearn-color-text-on-default-background);\n",
       "}\n",
       "\n",
       "/* On hover, darken the color of the background */\n",
       "#sk-container-id-2 div.sk-label:hover label.sk-toggleable__label {\n",
       "  color: var(--sklearn-color-text);\n",
       "  background-color: var(--sklearn-color-unfitted-level-2);\n",
       "}\n",
       "\n",
       "/* Label box, darken color on hover, fitted */\n",
       "#sk-container-id-2 div.sk-label.fitted:hover label.sk-toggleable__label.fitted {\n",
       "  color: var(--sklearn-color-text);\n",
       "  background-color: var(--sklearn-color-fitted-level-2);\n",
       "}\n",
       "\n",
       "/* Estimator label */\n",
       "\n",
       "#sk-container-id-2 div.sk-label label {\n",
       "  font-family: monospace;\n",
       "  font-weight: bold;\n",
       "  display: inline-block;\n",
       "  line-height: 1.2em;\n",
       "}\n",
       "\n",
       "#sk-container-id-2 div.sk-label-container {\n",
       "  text-align: center;\n",
       "}\n",
       "\n",
       "/* Estimator-specific */\n",
       "#sk-container-id-2 div.sk-estimator {\n",
       "  font-family: monospace;\n",
       "  border: 1px dotted var(--sklearn-color-border-box);\n",
       "  border-radius: 0.25em;\n",
       "  box-sizing: border-box;\n",
       "  margin-bottom: 0.5em;\n",
       "  /* unfitted */\n",
       "  background-color: var(--sklearn-color-unfitted-level-0);\n",
       "}\n",
       "\n",
       "#sk-container-id-2 div.sk-estimator.fitted {\n",
       "  /* fitted */\n",
       "  background-color: var(--sklearn-color-fitted-level-0);\n",
       "}\n",
       "\n",
       "/* on hover */\n",
       "#sk-container-id-2 div.sk-estimator:hover {\n",
       "  /* unfitted */\n",
       "  background-color: var(--sklearn-color-unfitted-level-2);\n",
       "}\n",
       "\n",
       "#sk-container-id-2 div.sk-estimator.fitted:hover {\n",
       "  /* fitted */\n",
       "  background-color: var(--sklearn-color-fitted-level-2);\n",
       "}\n",
       "\n",
       "/* Specification for estimator info (e.g. \"i\" and \"?\") */\n",
       "\n",
       "/* Common style for \"i\" and \"?\" */\n",
       "\n",
       ".sk-estimator-doc-link,\n",
       "a:link.sk-estimator-doc-link,\n",
       "a:visited.sk-estimator-doc-link {\n",
       "  float: right;\n",
       "  font-size: smaller;\n",
       "  line-height: 1em;\n",
       "  font-family: monospace;\n",
       "  background-color: var(--sklearn-color-background);\n",
       "  border-radius: 1em;\n",
       "  height: 1em;\n",
       "  width: 1em;\n",
       "  text-decoration: none !important;\n",
       "  margin-left: 1ex;\n",
       "  /* unfitted */\n",
       "  border: var(--sklearn-color-unfitted-level-1) 1pt solid;\n",
       "  color: var(--sklearn-color-unfitted-level-1);\n",
       "}\n",
       "\n",
       ".sk-estimator-doc-link.fitted,\n",
       "a:link.sk-estimator-doc-link.fitted,\n",
       "a:visited.sk-estimator-doc-link.fitted {\n",
       "  /* fitted */\n",
       "  border: var(--sklearn-color-fitted-level-1) 1pt solid;\n",
       "  color: var(--sklearn-color-fitted-level-1);\n",
       "}\n",
       "\n",
       "/* On hover */\n",
       "div.sk-estimator:hover .sk-estimator-doc-link:hover,\n",
       ".sk-estimator-doc-link:hover,\n",
       "div.sk-label-container:hover .sk-estimator-doc-link:hover,\n",
       ".sk-estimator-doc-link:hover {\n",
       "  /* unfitted */\n",
       "  background-color: var(--sklearn-color-unfitted-level-3);\n",
       "  color: var(--sklearn-color-background);\n",
       "  text-decoration: none;\n",
       "}\n",
       "\n",
       "div.sk-estimator.fitted:hover .sk-estimator-doc-link.fitted:hover,\n",
       ".sk-estimator-doc-link.fitted:hover,\n",
       "div.sk-label-container:hover .sk-estimator-doc-link.fitted:hover,\n",
       ".sk-estimator-doc-link.fitted:hover {\n",
       "  /* fitted */\n",
       "  background-color: var(--sklearn-color-fitted-level-3);\n",
       "  color: var(--sklearn-color-background);\n",
       "  text-decoration: none;\n",
       "}\n",
       "\n",
       "/* Span, style for the box shown on hovering the info icon */\n",
       ".sk-estimator-doc-link span {\n",
       "  display: none;\n",
       "  z-index: 9999;\n",
       "  position: relative;\n",
       "  font-weight: normal;\n",
       "  right: .2ex;\n",
       "  padding: .5ex;\n",
       "  margin: .5ex;\n",
       "  width: min-content;\n",
       "  min-width: 20ex;\n",
       "  max-width: 50ex;\n",
       "  color: var(--sklearn-color-text);\n",
       "  box-shadow: 2pt 2pt 4pt #999;\n",
       "  /* unfitted */\n",
       "  background: var(--sklearn-color-unfitted-level-0);\n",
       "  border: .5pt solid var(--sklearn-color-unfitted-level-3);\n",
       "}\n",
       "\n",
       ".sk-estimator-doc-link.fitted span {\n",
       "  /* fitted */\n",
       "  background: var(--sklearn-color-fitted-level-0);\n",
       "  border: var(--sklearn-color-fitted-level-3);\n",
       "}\n",
       "\n",
       ".sk-estimator-doc-link:hover span {\n",
       "  display: block;\n",
       "}\n",
       "\n",
       "/* \"?\"-specific style due to the `<a>` HTML tag */\n",
       "\n",
       "#sk-container-id-2 a.estimator_doc_link {\n",
       "  float: right;\n",
       "  font-size: 1rem;\n",
       "  line-height: 1em;\n",
       "  font-family: monospace;\n",
       "  background-color: var(--sklearn-color-background);\n",
       "  border-radius: 1rem;\n",
       "  height: 1rem;\n",
       "  width: 1rem;\n",
       "  text-decoration: none;\n",
       "  /* unfitted */\n",
       "  color: var(--sklearn-color-unfitted-level-1);\n",
       "  border: var(--sklearn-color-unfitted-level-1) 1pt solid;\n",
       "}\n",
       "\n",
       "#sk-container-id-2 a.estimator_doc_link.fitted {\n",
       "  /* fitted */\n",
       "  border: var(--sklearn-color-fitted-level-1) 1pt solid;\n",
       "  color: var(--sklearn-color-fitted-level-1);\n",
       "}\n",
       "\n",
       "/* On hover */\n",
       "#sk-container-id-2 a.estimator_doc_link:hover {\n",
       "  /* unfitted */\n",
       "  background-color: var(--sklearn-color-unfitted-level-3);\n",
       "  color: var(--sklearn-color-background);\n",
       "  text-decoration: none;\n",
       "}\n",
       "\n",
       "#sk-container-id-2 a.estimator_doc_link.fitted:hover {\n",
       "  /* fitted */\n",
       "  background-color: var(--sklearn-color-fitted-level-3);\n",
       "}\n",
       "</style><div id=\"sk-container-id-2\" class=\"sk-top-container\"><div class=\"sk-text-repr-fallback\"><pre>RandomizedSearchCV(cv=5, estimator=RandomForestRegressor(random_state=42),\n",
       "                   n_jobs=-1,\n",
       "                   param_distributions={&#x27;bootstrap&#x27;: [True, False],\n",
       "                                        &#x27;max_depth&#x27;: [None, 10, 20, 30, 40, 50,\n",
       "                                                      60, 70, 80, 90, 100],\n",
       "                                        &#x27;max_features&#x27;: [&#x27;sqrt&#x27;, &#x27;log2&#x27;, None,\n",
       "                                                         0.5, 1.0],\n",
       "                                        &#x27;min_samples_leaf&#x27;: array([1, 2, 3, 4, 5]),\n",
       "                                        &#x27;min_samples_split&#x27;: array([ 2,  4,  6,  8, 10]),\n",
       "                                        &#x27;n_estimators&#x27;: array([100, 200, 300, 400, 500, 600, 700, 800, 900])},\n",
       "                   random_state=42, verbose=2)</pre><b>In a Jupyter environment, please rerun this cell to show the HTML representation or trust the notebook. <br />On GitHub, the HTML representation is unable to render, please try loading this page with nbviewer.org.</b></div><div class=\"sk-container\" hidden><div class=\"sk-item sk-dashed-wrapped\"><div class=\"sk-label-container\"><div class=\"sk-label fitted sk-toggleable\"><input class=\"sk-toggleable__control sk-hidden--visually\" id=\"sk-estimator-id-4\" type=\"checkbox\" ><label for=\"sk-estimator-id-4\" class=\"sk-toggleable__label fitted sk-toggleable__label-arrow fitted\">&nbsp;&nbsp;RandomizedSearchCV<a class=\"sk-estimator-doc-link fitted\" rel=\"noreferrer\" target=\"_blank\" href=\"https://scikit-learn.org/1.5/modules/generated/sklearn.model_selection.RandomizedSearchCV.html\">?<span>Documentation for RandomizedSearchCV</span></a><span class=\"sk-estimator-doc-link fitted\">i<span>Fitted</span></span></label><div class=\"sk-toggleable__content fitted\"><pre>RandomizedSearchCV(cv=5, estimator=RandomForestRegressor(random_state=42),\n",
       "                   n_jobs=-1,\n",
       "                   param_distributions={&#x27;bootstrap&#x27;: [True, False],\n",
       "                                        &#x27;max_depth&#x27;: [None, 10, 20, 30, 40, 50,\n",
       "                                                      60, 70, 80, 90, 100],\n",
       "                                        &#x27;max_features&#x27;: [&#x27;sqrt&#x27;, &#x27;log2&#x27;, None,\n",
       "                                                         0.5, 1.0],\n",
       "                                        &#x27;min_samples_leaf&#x27;: array([1, 2, 3, 4, 5]),\n",
       "                                        &#x27;min_samples_split&#x27;: array([ 2,  4,  6,  8, 10]),\n",
       "                                        &#x27;n_estimators&#x27;: array([100, 200, 300, 400, 500, 600, 700, 800, 900])},\n",
       "                   random_state=42, verbose=2)</pre></div> </div></div><div class=\"sk-parallel\"><div class=\"sk-parallel-item\"><div class=\"sk-item\"><div class=\"sk-label-container\"><div class=\"sk-label fitted sk-toggleable\"><input class=\"sk-toggleable__control sk-hidden--visually\" id=\"sk-estimator-id-5\" type=\"checkbox\" ><label for=\"sk-estimator-id-5\" class=\"sk-toggleable__label fitted sk-toggleable__label-arrow fitted\">best_estimator_: RandomForestRegressor</label><div class=\"sk-toggleable__content fitted\"><pre>RandomForestRegressor(bootstrap=False, max_depth=80, max_features=0.5,\n",
       "                      min_samples_leaf=2, min_samples_split=6, n_estimators=600,\n",
       "                      random_state=42)</pre></div> </div></div><div class=\"sk-serial\"><div class=\"sk-item\"><div class=\"sk-estimator fitted sk-toggleable\"><input class=\"sk-toggleable__control sk-hidden--visually\" id=\"sk-estimator-id-6\" type=\"checkbox\" ><label for=\"sk-estimator-id-6\" class=\"sk-toggleable__label fitted sk-toggleable__label-arrow fitted\">&nbsp;RandomForestRegressor<a class=\"sk-estimator-doc-link fitted\" rel=\"noreferrer\" target=\"_blank\" href=\"https://scikit-learn.org/1.5/modules/generated/sklearn.ensemble.RandomForestRegressor.html\">?<span>Documentation for RandomForestRegressor</span></a></label><div class=\"sk-toggleable__content fitted\"><pre>RandomForestRegressor(bootstrap=False, max_depth=80, max_features=0.5,\n",
       "                      min_samples_leaf=2, min_samples_split=6, n_estimators=600,\n",
       "                      random_state=42)</pre></div> </div></div></div></div></div></div></div></div></div>"
      ],
      "text/plain": [
       "RandomizedSearchCV(cv=5, estimator=RandomForestRegressor(random_state=42),\n",
       "                   n_jobs=-1,\n",
       "                   param_distributions={'bootstrap': [True, False],\n",
       "                                        'max_depth': [None, 10, 20, 30, 40, 50,\n",
       "                                                      60, 70, 80, 90, 100],\n",
       "                                        'max_features': ['sqrt', 'log2', None,\n",
       "                                                         0.5, 1.0],\n",
       "                                        'min_samples_leaf': array([1, 2, 3, 4, 5]),\n",
       "                                        'min_samples_split': array([ 2,  4,  6,  8, 10]),\n",
       "                                        'n_estimators': array([100, 200, 300, 400, 500, 600, 700, 800, 900])},\n",
       "                   random_state=42, verbose=2)"
      ]
     },
     "execution_count": 40,
     "metadata": {},
     "output_type": "execute_result"
    }
   ],
   "source": [
    "rf_random.fit(x1_train, Y1_train)"
   ]
  },
  {
   "cell_type": "markdown",
   "id": "0d0754c3-cf5c-4f30-9558-034f89f2c26e",
   "metadata": {
    "id": "0d0754c3-cf5c-4f30-9558-034f89f2c26e"
   },
   "source": [
    "#### Get the best parameters and the best score"
   ]
  },
  {
   "cell_type": "code",
   "execution_count": 44,
   "id": "c0333638-6d39-496e-8b3e-3b16ec87c200",
   "metadata": {
    "id": "c0333638-6d39-496e-8b3e-3b16ec87c200"
   },
   "outputs": [
    {
     "name": "stdout",
     "output_type": "stream",
     "text": [
      "\n",
      "Best Parameters:\n",
      "n_estimators: 600\n",
      "min_samples_split: 6\n",
      "min_samples_leaf: 2\n",
      "max_features: 0.5\n",
      "max_depth: 80\n",
      "bootstrap: False\n",
      "\n",
      "Best Cross-Validation Score: 0.9581\n"
     ]
    }
   ],
   "source": [
    "print(\"\\nBest Parameters:\")\n",
    "for param, value in rf_random.best_params_.items():\n",
    "    print(f\"{param}: {value}\")\n",
    "print(f\"\\nBest Cross-Validation Score: {rf_random.best_score_:.4f}\")"
   ]
  },
  {
   "cell_type": "markdown",
   "id": "8d7c866c-2644-4fe1-b3e8-6449ad5aa95b",
   "metadata": {
    "id": "8d7c866c-2644-4fe1-b3e8-6449ad5aa95b"
   },
   "source": [
    "#### Evaluate the best model on the test set"
   ]
  },
  {
   "cell_type": "code",
   "execution_count": 45,
   "id": "d9edd414-fadd-4eb3-b919-939f52b8993a",
   "metadata": {
    "id": "d9edd414-fadd-4eb3-b919-939f52b8993a"
   },
   "outputs": [
    {
     "data": {
      "text/html": [
       "<style>#sk-container-id-3 {\n",
       "  /* Definition of color scheme common for light and dark mode */\n",
       "  --sklearn-color-text: black;\n",
       "  --sklearn-color-line: gray;\n",
       "  /* Definition of color scheme for unfitted estimators */\n",
       "  --sklearn-color-unfitted-level-0: #fff5e6;\n",
       "  --sklearn-color-unfitted-level-1: #f6e4d2;\n",
       "  --sklearn-color-unfitted-level-2: #ffe0b3;\n",
       "  --sklearn-color-unfitted-level-3: chocolate;\n",
       "  /* Definition of color scheme for fitted estimators */\n",
       "  --sklearn-color-fitted-level-0: #f0f8ff;\n",
       "  --sklearn-color-fitted-level-1: #d4ebff;\n",
       "  --sklearn-color-fitted-level-2: #b3dbfd;\n",
       "  --sklearn-color-fitted-level-3: cornflowerblue;\n",
       "\n",
       "  /* Specific color for light theme */\n",
       "  --sklearn-color-text-on-default-background: var(--sg-text-color, var(--theme-code-foreground, var(--jp-content-font-color1, black)));\n",
       "  --sklearn-color-background: var(--sg-background-color, var(--theme-background, var(--jp-layout-color0, white)));\n",
       "  --sklearn-color-border-box: var(--sg-text-color, var(--theme-code-foreground, var(--jp-content-font-color1, black)));\n",
       "  --sklearn-color-icon: #696969;\n",
       "\n",
       "  @media (prefers-color-scheme: dark) {\n",
       "    /* Redefinition of color scheme for dark theme */\n",
       "    --sklearn-color-text-on-default-background: var(--sg-text-color, var(--theme-code-foreground, var(--jp-content-font-color1, white)));\n",
       "    --sklearn-color-background: var(--sg-background-color, var(--theme-background, var(--jp-layout-color0, #111)));\n",
       "    --sklearn-color-border-box: var(--sg-text-color, var(--theme-code-foreground, var(--jp-content-font-color1, white)));\n",
       "    --sklearn-color-icon: #878787;\n",
       "  }\n",
       "}\n",
       "\n",
       "#sk-container-id-3 {\n",
       "  color: var(--sklearn-color-text);\n",
       "}\n",
       "\n",
       "#sk-container-id-3 pre {\n",
       "  padding: 0;\n",
       "}\n",
       "\n",
       "#sk-container-id-3 input.sk-hidden--visually {\n",
       "  border: 0;\n",
       "  clip: rect(1px 1px 1px 1px);\n",
       "  clip: rect(1px, 1px, 1px, 1px);\n",
       "  height: 1px;\n",
       "  margin: -1px;\n",
       "  overflow: hidden;\n",
       "  padding: 0;\n",
       "  position: absolute;\n",
       "  width: 1px;\n",
       "}\n",
       "\n",
       "#sk-container-id-3 div.sk-dashed-wrapped {\n",
       "  border: 1px dashed var(--sklearn-color-line);\n",
       "  margin: 0 0.4em 0.5em 0.4em;\n",
       "  box-sizing: border-box;\n",
       "  padding-bottom: 0.4em;\n",
       "  background-color: var(--sklearn-color-background);\n",
       "}\n",
       "\n",
       "#sk-container-id-3 div.sk-container {\n",
       "  /* jupyter's `normalize.less` sets `[hidden] { display: none; }`\n",
       "     but bootstrap.min.css set `[hidden] { display: none !important; }`\n",
       "     so we also need the `!important` here to be able to override the\n",
       "     default hidden behavior on the sphinx rendered scikit-learn.org.\n",
       "     See: https://github.com/scikit-learn/scikit-learn/issues/21755 */\n",
       "  display: inline-block !important;\n",
       "  position: relative;\n",
       "}\n",
       "\n",
       "#sk-container-id-3 div.sk-text-repr-fallback {\n",
       "  display: none;\n",
       "}\n",
       "\n",
       "div.sk-parallel-item,\n",
       "div.sk-serial,\n",
       "div.sk-item {\n",
       "  /* draw centered vertical line to link estimators */\n",
       "  background-image: linear-gradient(var(--sklearn-color-text-on-default-background), var(--sklearn-color-text-on-default-background));\n",
       "  background-size: 2px 100%;\n",
       "  background-repeat: no-repeat;\n",
       "  background-position: center center;\n",
       "}\n",
       "\n",
       "/* Parallel-specific style estimator block */\n",
       "\n",
       "#sk-container-id-3 div.sk-parallel-item::after {\n",
       "  content: \"\";\n",
       "  width: 100%;\n",
       "  border-bottom: 2px solid var(--sklearn-color-text-on-default-background);\n",
       "  flex-grow: 1;\n",
       "}\n",
       "\n",
       "#sk-container-id-3 div.sk-parallel {\n",
       "  display: flex;\n",
       "  align-items: stretch;\n",
       "  justify-content: center;\n",
       "  background-color: var(--sklearn-color-background);\n",
       "  position: relative;\n",
       "}\n",
       "\n",
       "#sk-container-id-3 div.sk-parallel-item {\n",
       "  display: flex;\n",
       "  flex-direction: column;\n",
       "}\n",
       "\n",
       "#sk-container-id-3 div.sk-parallel-item:first-child::after {\n",
       "  align-self: flex-end;\n",
       "  width: 50%;\n",
       "}\n",
       "\n",
       "#sk-container-id-3 div.sk-parallel-item:last-child::after {\n",
       "  align-self: flex-start;\n",
       "  width: 50%;\n",
       "}\n",
       "\n",
       "#sk-container-id-3 div.sk-parallel-item:only-child::after {\n",
       "  width: 0;\n",
       "}\n",
       "\n",
       "/* Serial-specific style estimator block */\n",
       "\n",
       "#sk-container-id-3 div.sk-serial {\n",
       "  display: flex;\n",
       "  flex-direction: column;\n",
       "  align-items: center;\n",
       "  background-color: var(--sklearn-color-background);\n",
       "  padding-right: 1em;\n",
       "  padding-left: 1em;\n",
       "}\n",
       "\n",
       "\n",
       "/* Toggleable style: style used for estimator/Pipeline/ColumnTransformer box that is\n",
       "clickable and can be expanded/collapsed.\n",
       "- Pipeline and ColumnTransformer use this feature and define the default style\n",
       "- Estimators will overwrite some part of the style using the `sk-estimator` class\n",
       "*/\n",
       "\n",
       "/* Pipeline and ColumnTransformer style (default) */\n",
       "\n",
       "#sk-container-id-3 div.sk-toggleable {\n",
       "  /* Default theme specific background. It is overwritten whether we have a\n",
       "  specific estimator or a Pipeline/ColumnTransformer */\n",
       "  background-color: var(--sklearn-color-background);\n",
       "}\n",
       "\n",
       "/* Toggleable label */\n",
       "#sk-container-id-3 label.sk-toggleable__label {\n",
       "  cursor: pointer;\n",
       "  display: block;\n",
       "  width: 100%;\n",
       "  margin-bottom: 0;\n",
       "  padding: 0.5em;\n",
       "  box-sizing: border-box;\n",
       "  text-align: center;\n",
       "}\n",
       "\n",
       "#sk-container-id-3 label.sk-toggleable__label-arrow:before {\n",
       "  /* Arrow on the left of the label */\n",
       "  content: \"▸\";\n",
       "  float: left;\n",
       "  margin-right: 0.25em;\n",
       "  color: var(--sklearn-color-icon);\n",
       "}\n",
       "\n",
       "#sk-container-id-3 label.sk-toggleable__label-arrow:hover:before {\n",
       "  color: var(--sklearn-color-text);\n",
       "}\n",
       "\n",
       "/* Toggleable content - dropdown */\n",
       "\n",
       "#sk-container-id-3 div.sk-toggleable__content {\n",
       "  max-height: 0;\n",
       "  max-width: 0;\n",
       "  overflow: hidden;\n",
       "  text-align: left;\n",
       "  /* unfitted */\n",
       "  background-color: var(--sklearn-color-unfitted-level-0);\n",
       "}\n",
       "\n",
       "#sk-container-id-3 div.sk-toggleable__content.fitted {\n",
       "  /* fitted */\n",
       "  background-color: var(--sklearn-color-fitted-level-0);\n",
       "}\n",
       "\n",
       "#sk-container-id-3 div.sk-toggleable__content pre {\n",
       "  margin: 0.2em;\n",
       "  border-radius: 0.25em;\n",
       "  color: var(--sklearn-color-text);\n",
       "  /* unfitted */\n",
       "  background-color: var(--sklearn-color-unfitted-level-0);\n",
       "}\n",
       "\n",
       "#sk-container-id-3 div.sk-toggleable__content.fitted pre {\n",
       "  /* unfitted */\n",
       "  background-color: var(--sklearn-color-fitted-level-0);\n",
       "}\n",
       "\n",
       "#sk-container-id-3 input.sk-toggleable__control:checked~div.sk-toggleable__content {\n",
       "  /* Expand drop-down */\n",
       "  max-height: 200px;\n",
       "  max-width: 100%;\n",
       "  overflow: auto;\n",
       "}\n",
       "\n",
       "#sk-container-id-3 input.sk-toggleable__control:checked~label.sk-toggleable__label-arrow:before {\n",
       "  content: \"▾\";\n",
       "}\n",
       "\n",
       "/* Pipeline/ColumnTransformer-specific style */\n",
       "\n",
       "#sk-container-id-3 div.sk-label input.sk-toggleable__control:checked~label.sk-toggleable__label {\n",
       "  color: var(--sklearn-color-text);\n",
       "  background-color: var(--sklearn-color-unfitted-level-2);\n",
       "}\n",
       "\n",
       "#sk-container-id-3 div.sk-label.fitted input.sk-toggleable__control:checked~label.sk-toggleable__label {\n",
       "  background-color: var(--sklearn-color-fitted-level-2);\n",
       "}\n",
       "\n",
       "/* Estimator-specific style */\n",
       "\n",
       "/* Colorize estimator box */\n",
       "#sk-container-id-3 div.sk-estimator input.sk-toggleable__control:checked~label.sk-toggleable__label {\n",
       "  /* unfitted */\n",
       "  background-color: var(--sklearn-color-unfitted-level-2);\n",
       "}\n",
       "\n",
       "#sk-container-id-3 div.sk-estimator.fitted input.sk-toggleable__control:checked~label.sk-toggleable__label {\n",
       "  /* fitted */\n",
       "  background-color: var(--sklearn-color-fitted-level-2);\n",
       "}\n",
       "\n",
       "#sk-container-id-3 div.sk-label label.sk-toggleable__label,\n",
       "#sk-container-id-3 div.sk-label label {\n",
       "  /* The background is the default theme color */\n",
       "  color: var(--sklearn-color-text-on-default-background);\n",
       "}\n",
       "\n",
       "/* On hover, darken the color of the background */\n",
       "#sk-container-id-3 div.sk-label:hover label.sk-toggleable__label {\n",
       "  color: var(--sklearn-color-text);\n",
       "  background-color: var(--sklearn-color-unfitted-level-2);\n",
       "}\n",
       "\n",
       "/* Label box, darken color on hover, fitted */\n",
       "#sk-container-id-3 div.sk-label.fitted:hover label.sk-toggleable__label.fitted {\n",
       "  color: var(--sklearn-color-text);\n",
       "  background-color: var(--sklearn-color-fitted-level-2);\n",
       "}\n",
       "\n",
       "/* Estimator label */\n",
       "\n",
       "#sk-container-id-3 div.sk-label label {\n",
       "  font-family: monospace;\n",
       "  font-weight: bold;\n",
       "  display: inline-block;\n",
       "  line-height: 1.2em;\n",
       "}\n",
       "\n",
       "#sk-container-id-3 div.sk-label-container {\n",
       "  text-align: center;\n",
       "}\n",
       "\n",
       "/* Estimator-specific */\n",
       "#sk-container-id-3 div.sk-estimator {\n",
       "  font-family: monospace;\n",
       "  border: 1px dotted var(--sklearn-color-border-box);\n",
       "  border-radius: 0.25em;\n",
       "  box-sizing: border-box;\n",
       "  margin-bottom: 0.5em;\n",
       "  /* unfitted */\n",
       "  background-color: var(--sklearn-color-unfitted-level-0);\n",
       "}\n",
       "\n",
       "#sk-container-id-3 div.sk-estimator.fitted {\n",
       "  /* fitted */\n",
       "  background-color: var(--sklearn-color-fitted-level-0);\n",
       "}\n",
       "\n",
       "/* on hover */\n",
       "#sk-container-id-3 div.sk-estimator:hover {\n",
       "  /* unfitted */\n",
       "  background-color: var(--sklearn-color-unfitted-level-2);\n",
       "}\n",
       "\n",
       "#sk-container-id-3 div.sk-estimator.fitted:hover {\n",
       "  /* fitted */\n",
       "  background-color: var(--sklearn-color-fitted-level-2);\n",
       "}\n",
       "\n",
       "/* Specification for estimator info (e.g. \"i\" and \"?\") */\n",
       "\n",
       "/* Common style for \"i\" and \"?\" */\n",
       "\n",
       ".sk-estimator-doc-link,\n",
       "a:link.sk-estimator-doc-link,\n",
       "a:visited.sk-estimator-doc-link {\n",
       "  float: right;\n",
       "  font-size: smaller;\n",
       "  line-height: 1em;\n",
       "  font-family: monospace;\n",
       "  background-color: var(--sklearn-color-background);\n",
       "  border-radius: 1em;\n",
       "  height: 1em;\n",
       "  width: 1em;\n",
       "  text-decoration: none !important;\n",
       "  margin-left: 1ex;\n",
       "  /* unfitted */\n",
       "  border: var(--sklearn-color-unfitted-level-1) 1pt solid;\n",
       "  color: var(--sklearn-color-unfitted-level-1);\n",
       "}\n",
       "\n",
       ".sk-estimator-doc-link.fitted,\n",
       "a:link.sk-estimator-doc-link.fitted,\n",
       "a:visited.sk-estimator-doc-link.fitted {\n",
       "  /* fitted */\n",
       "  border: var(--sklearn-color-fitted-level-1) 1pt solid;\n",
       "  color: var(--sklearn-color-fitted-level-1);\n",
       "}\n",
       "\n",
       "/* On hover */\n",
       "div.sk-estimator:hover .sk-estimator-doc-link:hover,\n",
       ".sk-estimator-doc-link:hover,\n",
       "div.sk-label-container:hover .sk-estimator-doc-link:hover,\n",
       ".sk-estimator-doc-link:hover {\n",
       "  /* unfitted */\n",
       "  background-color: var(--sklearn-color-unfitted-level-3);\n",
       "  color: var(--sklearn-color-background);\n",
       "  text-decoration: none;\n",
       "}\n",
       "\n",
       "div.sk-estimator.fitted:hover .sk-estimator-doc-link.fitted:hover,\n",
       ".sk-estimator-doc-link.fitted:hover,\n",
       "div.sk-label-container:hover .sk-estimator-doc-link.fitted:hover,\n",
       ".sk-estimator-doc-link.fitted:hover {\n",
       "  /* fitted */\n",
       "  background-color: var(--sklearn-color-fitted-level-3);\n",
       "  color: var(--sklearn-color-background);\n",
       "  text-decoration: none;\n",
       "}\n",
       "\n",
       "/* Span, style for the box shown on hovering the info icon */\n",
       ".sk-estimator-doc-link span {\n",
       "  display: none;\n",
       "  z-index: 9999;\n",
       "  position: relative;\n",
       "  font-weight: normal;\n",
       "  right: .2ex;\n",
       "  padding: .5ex;\n",
       "  margin: .5ex;\n",
       "  width: min-content;\n",
       "  min-width: 20ex;\n",
       "  max-width: 50ex;\n",
       "  color: var(--sklearn-color-text);\n",
       "  box-shadow: 2pt 2pt 4pt #999;\n",
       "  /* unfitted */\n",
       "  background: var(--sklearn-color-unfitted-level-0);\n",
       "  border: .5pt solid var(--sklearn-color-unfitted-level-3);\n",
       "}\n",
       "\n",
       ".sk-estimator-doc-link.fitted span {\n",
       "  /* fitted */\n",
       "  background: var(--sklearn-color-fitted-level-0);\n",
       "  border: var(--sklearn-color-fitted-level-3);\n",
       "}\n",
       "\n",
       ".sk-estimator-doc-link:hover span {\n",
       "  display: block;\n",
       "}\n",
       "\n",
       "/* \"?\"-specific style due to the `<a>` HTML tag */\n",
       "\n",
       "#sk-container-id-3 a.estimator_doc_link {\n",
       "  float: right;\n",
       "  font-size: 1rem;\n",
       "  line-height: 1em;\n",
       "  font-family: monospace;\n",
       "  background-color: var(--sklearn-color-background);\n",
       "  border-radius: 1rem;\n",
       "  height: 1rem;\n",
       "  width: 1rem;\n",
       "  text-decoration: none;\n",
       "  /* unfitted */\n",
       "  color: var(--sklearn-color-unfitted-level-1);\n",
       "  border: var(--sklearn-color-unfitted-level-1) 1pt solid;\n",
       "}\n",
       "\n",
       "#sk-container-id-3 a.estimator_doc_link.fitted {\n",
       "  /* fitted */\n",
       "  border: var(--sklearn-color-fitted-level-1) 1pt solid;\n",
       "  color: var(--sklearn-color-fitted-level-1);\n",
       "}\n",
       "\n",
       "/* On hover */\n",
       "#sk-container-id-3 a.estimator_doc_link:hover {\n",
       "  /* unfitted */\n",
       "  background-color: var(--sklearn-color-unfitted-level-3);\n",
       "  color: var(--sklearn-color-background);\n",
       "  text-decoration: none;\n",
       "}\n",
       "\n",
       "#sk-container-id-3 a.estimator_doc_link.fitted:hover {\n",
       "  /* fitted */\n",
       "  background-color: var(--sklearn-color-fitted-level-3);\n",
       "}\n",
       "</style><div id=\"sk-container-id-3\" class=\"sk-top-container\"><div class=\"sk-text-repr-fallback\"><pre>RandomForestRegressor(bootstrap=False, max_depth=80, max_features=0.5,\n",
       "                      min_samples_leaf=2, min_samples_split=6, n_estimators=600,\n",
       "                      random_state=42)</pre><b>In a Jupyter environment, please rerun this cell to show the HTML representation or trust the notebook. <br />On GitHub, the HTML representation is unable to render, please try loading this page with nbviewer.org.</b></div><div class=\"sk-container\" hidden><div class=\"sk-item\"><div class=\"sk-estimator fitted sk-toggleable\"><input class=\"sk-toggleable__control sk-hidden--visually\" id=\"sk-estimator-id-7\" type=\"checkbox\" checked><label for=\"sk-estimator-id-7\" class=\"sk-toggleable__label fitted sk-toggleable__label-arrow fitted\">&nbsp;&nbsp;RandomForestRegressor<a class=\"sk-estimator-doc-link fitted\" rel=\"noreferrer\" target=\"_blank\" href=\"https://scikit-learn.org/1.5/modules/generated/sklearn.ensemble.RandomForestRegressor.html\">?<span>Documentation for RandomForestRegressor</span></a><span class=\"sk-estimator-doc-link fitted\">i<span>Fitted</span></span></label><div class=\"sk-toggleable__content fitted\"><pre>RandomForestRegressor(bootstrap=False, max_depth=80, max_features=0.5,\n",
       "                      min_samples_leaf=2, min_samples_split=6, n_estimators=600,\n",
       "                      random_state=42)</pre></div> </div></div></div></div>"
      ],
      "text/plain": [
       "RandomForestRegressor(bootstrap=False, max_depth=80, max_features=0.5,\n",
       "                      min_samples_leaf=2, min_samples_split=6, n_estimators=600,\n",
       "                      random_state=42)"
      ]
     },
     "execution_count": 45,
     "metadata": {},
     "output_type": "execute_result"
    }
   ],
   "source": [
    "from sklearn.ensemble import RandomForestRegressor\n",
    "\n",
    "best_rf_model = RandomForestRegressor(**rf_random.best_params_, random_state=42)\n",
    "best_rf_model.fit(x1_train, Y1_train)\n"
   ]
  },
  {
   "cell_type": "code",
   "execution_count": 51,
   "id": "0afcef34-d8ca-4c36-b82d-420d5481427a",
   "metadata": {},
   "outputs": [
    {
     "name": "stdout",
     "output_type": "stream",
     "text": [
      " R² Score for Best Model: 0.9649\n"
     ]
    }
   ],
   "source": [
    "best_rf_score = best_rf_model.score(x1_test, Y1_test)\n",
    "print(f\" R² Score for Best Model: {best_rf_score:.4f}\")"
   ]
  },
  {
   "cell_type": "markdown",
   "id": "vnczcHu8HPdr",
   "metadata": {
    "id": "vnczcHu8HPdr"
   },
   "source": [
    "#### Make prediction"
   ]
  },
  {
   "cell_type": "code",
   "execution_count": 46,
   "id": "blw8Ms3IHaEp",
   "metadata": {
    "id": "blw8Ms3IHaEp"
   },
   "outputs": [
    {
     "name": "stdout",
     "output_type": "stream",
     "text": [
      "[-6.22876837e-01  1.82509177e+00 -7.13767602e-01 -8.07123589e-01\n",
      " -5.84881147e-01  1.54331945e+00 -3.84587968e-01  1.93869167e+00\n",
      " -6.16143651e-01 -6.50763436e-01  1.85989804e+00 -4.17816967e-01\n",
      " -4.13306064e-01  1.60691373e+00  1.59620872e+00 -5.73097622e-01\n",
      " -6.04776291e-01  1.75969275e+00 -7.74167428e-01 -6.55792780e-01\n",
      "  4.73785303e-01 -6.00598851e-01  1.09539970e+00 -7.52021930e-01\n",
      "  1.47251056e+00 -6.32851014e-01 -6.07297444e-01  2.00446482e+00\n",
      " -8.04879023e-01  1.62714620e+00 -5.13104427e-01  1.46301902e+00\n",
      " -6.91548468e-01  1.42774039e+00 -6.57487093e-01  1.59845791e+00\n",
      " -7.06103419e-01 -4.52185302e-01  1.08857352e+00 -8.43008888e-01\n",
      "  1.75396210e+00 -6.90728616e-01 -6.56562082e-01 -5.98633909e-01\n",
      " -6.96006981e-01  1.50259867e+00 -6.63055660e-01 -2.55580111e-01\n",
      "  1.79262039e+00 -6.34658357e-01 -6.84883183e-01 -6.19914306e-01\n",
      " -7.90032406e-01  2.09715894e+00 -7.62345812e-01 -6.36469578e-01\n",
      " -6.58233914e-01 -4.59761736e-01  1.48576597e+00 -7.01679059e-01\n",
      "  5.52566852e-01 -7.31286685e-01 -6.91475451e-01 -2.64617321e-01\n",
      " -5.83468132e-01 -6.33855876e-01 -5.48711514e-01  1.73834849e+00\n",
      " -6.98911974e-01 -6.12950087e-01 -6.62567893e-01 -6.47264902e-01\n",
      " -6.31725554e-01  1.52111695e+00 -3.13008960e-01  2.50765446e+00\n",
      " -6.64567308e-01  1.25753602e+00 -6.53867477e-01 -5.63092596e-01\n",
      " -7.21574140e-01 -7.58995796e-01 -7.32093677e-01 -7.19584176e-01\n",
      " -7.56973087e-01  1.45356248e+00 -7.74214738e-01 -7.30810392e-01\n",
      " -7.01585588e-01 -6.83029728e-01  2.00938620e-03 -3.42782898e-01\n",
      " -5.11899227e-01 -4.27350545e-01  1.73218109e+00 -5.92156614e-01\n",
      " -8.37099873e-01 -6.50792230e-01 -7.54213670e-01 -2.98205328e-01\n",
      " -7.27734717e-01  8.77172788e-01 -6.53868200e-01  1.24849911e+00\n",
      " -4.25570727e-01  1.76433487e+00 -3.53314779e-01 -6.52178093e-01\n",
      "  1.54733028e+00 -6.72781640e-01  1.64754752e+00 -8.12151625e-01\n",
      " -3.51051907e-01 -3.55241515e-01 -2.55544852e-01  1.88922526e+00\n",
      " -7.20347110e-01  1.35282705e+00 -7.70230254e-01 -6.61343596e-01\n",
      " -6.49160282e-01  1.18845251e+00 -6.62736695e-01 -6.28358471e-01\n",
      " -7.26040003e-01 -3.83221681e-01 -6.81829024e-01  1.34221202e+00\n",
      " -5.36150941e-01  2.28305360e+00 -7.89143525e-01 -5.86219736e-01\n",
      " -2.89391038e-01 -6.87082384e-01 -6.16149775e-01 -6.92327795e-01\n",
      "  2.37640783e+00 -7.50788211e-01 -3.83222300e-01  1.60210369e+00\n",
      " -6.44597597e-01 -6.48904603e-01 -6.85725013e-01 -5.87464321e-01\n",
      " -2.73081087e-01 -6.58890325e-01 -6.49192632e-01 -8.42827687e-01\n",
      "  1.08316504e+00 -5.99354713e-01 -7.17826076e-01  1.28339476e+00\n",
      "  1.17513445e+00 -6.84802269e-01 -6.36909152e-01 -6.29582956e-01\n",
      "  1.75695315e+00  2.26475949e+00  1.51185186e+00 -7.08965456e-01\n",
      " -6.65433842e-01 -5.83549064e-01 -6.62535915e-01 -6.79246116e-01\n",
      " -6.84920526e-01 -6.64666702e-01 -7.31284839e-01 -6.10167455e-01\n",
      "  1.02024527e+00 -7.48995320e-01 -6.80629841e-01 -7.34675158e-01\n",
      " -7.94835217e-01 -6.60604077e-01  1.31882840e-01 -5.91274306e-01\n",
      "  1.94244352e+00  1.95882342e+00  4.88150033e-01 -2.28009150e-01\n",
      "  8.25324625e-01 -1.60388093e-01 -8.42740408e-01 -8.10876738e-01\n",
      "  2.19885375e+00 -6.88901498e-01 -7.19096452e-01 -7.33717028e-01\n",
      " -5.56702762e-01 -4.64065735e-01 -8.16620679e-01 -7.51131537e-01\n",
      " -6.57692471e-01 -7.25205344e-01  1.06077068e+00 -4.98061824e-01\n",
      "  1.44394549e+00 -7.74127879e-01 -7.21125335e-01 -6.47191133e-01\n",
      "  3.53535675e-01 -7.49694882e-01  1.34221202e+00  1.10945598e+00\n",
      " -5.21776128e-01 -7.41557468e-01  1.54060925e+00 -7.35719255e-01\n",
      " -7.20821028e-01 -6.42317145e-01  1.30912556e+00 -8.15482545e-01\n",
      "  1.34646878e+00 -6.26560672e-01  1.38282937e+00  2.24387014e+00\n",
      " -5.86949562e-01  8.47246074e-01 -7.76116016e-01 -6.87123051e-01\n",
      "  3.99276477e-02 -8.34523945e-01 -5.77549745e-01  1.21485108e+00\n",
      " -7.74535277e-01 -4.93003015e-01 -6.44335865e-01 -3.95160794e-01\n",
      " -7.30485769e-01 -7.20059519e-01  9.51629375e-01 -7.60030892e-01\n",
      " -8.10429090e-01 -6.51229828e-01 -7.92858020e-01 -7.74647502e-01\n",
      " -6.41805880e-01  1.10613227e+00 -6.49782975e-01 -6.64170254e-01\n",
      " -5.78726306e-01  7.60129184e-01 -6.65609392e-01  1.71243506e+00\n",
      " -5.74310167e-01 -2.37814277e-01 -6.43375569e-01  1.50638827e+00\n",
      " -7.71265492e-01 -6.71607148e-01  1.74345414e-01 -8.09531955e-01\n",
      " -7.51754764e-01 -8.11224299e-01 -5.32350666e-01 -4.54853902e-01\n",
      " -6.26832152e-01 -6.79259279e-01 -5.34463555e-01 -6.84095531e-01\n",
      " -6.78774596e-01  1.42431459e+00 -7.27750932e-01 -7.58178554e-01\n",
      " -5.47062348e-01  1.48878515e+00 -6.72278903e-01  3.76343310e-01\n",
      " -4.27033498e-01 -6.83487772e-01 -6.52704747e-01  2.23592322e+00\n",
      " -7.09105868e-01  5.66035626e-01 -6.16624142e-01  1.74834563e+00\n",
      " -7.87047572e-01 -6.59253305e-01 -6.53239473e-01 -6.94597067e-01\n",
      "  1.98856890e+00 -2.87867895e-01  1.67475835e+00 -6.94164973e-01\n",
      "  1.67197207e+00 -6.90849997e-01 -4.99145116e-01  1.50379651e-01\n",
      " -6.47577603e-01 -7.01724674e-01  1.18001213e+00 -7.72053445e-01\n",
      " -7.93809663e-01 -6.89813177e-01 -8.18619004e-01 -7.82938446e-01\n",
      " -6.58725459e-01 -7.56452062e-01 -4.23739339e-01  1.74520163e+00\n",
      " -7.89202511e-01  2.12730861e+00  2.07631558e+00 -7.06804601e-01\n",
      " -3.78741123e-01 -8.13186392e-01 -7.30838875e-01 -6.11453505e-01\n",
      "  9.51629375e-01 -6.47887991e-01  1.08559731e+00 -5.95419236e-01\n",
      " -6.26292807e-01  4.70359351e-03 -3.21004181e-01 -4.71460408e-01\n",
      " -6.11541749e-01  4.22545153e-02 -6.39008595e-01 -6.90379568e-01\n",
      " -8.07117997e-01 -5.86441840e-01  1.73110917e+00 -8.40390000e-01\n",
      " -4.37307875e-01 -7.93425938e-01 -7.97925304e-01  5.88153613e-01\n",
      " -7.15857290e-01 -5.60350133e-01  1.04339990e+00  1.47320372e+00\n",
      " -7.38199518e-01 -7.38849894e-01  1.61295398e+00 -5.60490523e-01\n",
      "  1.45752509e+00 -6.37342978e-01 -6.74346875e-01 -6.21492306e-01\n",
      " -5.94532956e-01  1.85103714e+00  1.41259590e+00  1.88931790e+00\n",
      " -6.50209528e-01 -7.31864930e-01 -6.63088831e-01  1.11703955e+00\n",
      " -5.80063168e-01  1.25767791e+00 -7.63663672e-01 -8.18283209e-01\n",
      " -6.98622622e-01 -7.08663923e-01 -8.03003537e-01  3.96373560e-01\n",
      "  1.34777889e+00 -6.64981743e-01 -8.11703948e-01 -7.46644642e-01\n",
      " -6.55853487e-01 -7.40868706e-01 -6.85373738e-01  2.13622011e+00\n",
      "  1.34600241e+00 -6.57486325e-01 -6.48578140e-01 -7.72401430e-01\n",
      " -7.44243998e-01 -7.43037536e-01  9.87791294e-01  1.03161888e+00\n",
      " -5.91560827e-01  1.07611602e+00 -7.43745157e-01  1.23879805e+00\n",
      " -4.19357372e-01 -8.08745844e-01 -6.83678907e-01  1.55983109e+00\n",
      " -7.43744887e-01 -5.09550740e-01  1.54667321e+00 -6.33508938e-01\n",
      " -6.90462191e-01 -7.33257382e-01 -7.25067384e-01 -6.02513358e-01\n",
      "  1.34227504e+00  1.28328374e+00  1.04537036e+00 -3.91709904e-01\n",
      "  1.57675342e+00 -6.61179381e-01 -6.60245755e-01  9.49385886e-01\n",
      " -6.96543571e-01 -2.80402545e-01 -7.00087738e-01 -7.38533624e-01\n",
      " -6.31986097e-01  1.63065555e+00  1.74309264e+00  1.69503210e+00\n",
      " -8.13739256e-01  2.01992431e+00 -7.14632279e-01 -7.47109970e-01\n",
      "  2.15392650e-01 -3.76744817e-01 -5.78754261e-01 -7.71403052e-01\n",
      "  1.34284121e+00  1.97193052e+00 -7.22501310e-01 -7.48866712e-01\n",
      "  1.81971408e+00 -3.24508028e-01 -7.43733261e-01 -4.98872627e-01\n",
      " -3.93650250e-01 -6.74187531e-01 -6.69803192e-01 -6.42086621e-01\n",
      " -6.18804570e-01 -7.20589337e-01 -5.27683360e-01  1.45976805e-01\n",
      " -2.46704350e-01 -6.77649743e-01 -3.32049784e-01 -7.69635435e-01\n",
      " -3.75901233e-01 -6.93501235e-01 -6.51135438e-01 -6.96453247e-01\n",
      "  1.38509832e+00  2.03246782e+00  1.76999825e+00 -4.01721876e-01\n",
      "  5.05557896e-01  7.77431233e-01 -6.78300883e-01  2.20362912e+00\n",
      " -5.44531641e-01  1.37184516e+00 -7.47362417e-01  1.39114127e+00\n",
      " -6.62110690e-01 -4.57212618e-01 -2.77772281e-01  1.52777543e+00\n",
      "  1.49388824e+00 -6.44342393e-01 -8.18996373e-01 -6.56888492e-01\n",
      " -4.13890367e-01 -7.52193041e-01 -7.13585948e-01 -3.59407476e-01\n",
      " -7.24073197e-01 -5.15169319e-01 -6.31783744e-01 -5.45919897e-01\n",
      " -7.67797099e-01 -7.98199648e-01 -7.30437167e-01 -7.24707464e-01\n",
      " -6.88433022e-01 -7.05518442e-01 -6.76052513e-01 -4.47617912e-01\n",
      "  1.21877267e+00 -6.45360776e-01 -6.38265202e-01  2.30918669e-02\n",
      " -4.21014471e-01  1.08781096e+00 -7.32505171e-01 -6.48304867e-01\n",
      " -5.76253918e-01 -6.53203359e-01  9.92990577e-01  6.65746437e-01\n",
      " -6.55159512e-01  2.15707821e+00  1.52251383e+00 -6.59203544e-01\n",
      " -6.41170076e-01 -4.50471730e-01 -7.25280715e-01 -6.72935661e-01\n",
      "  1.30129398e+00 -6.28233157e-01 -6.65637913e-01 -8.05017830e-01\n",
      "  2.58848665e+00 -8.08510722e-01 -6.93347547e-01  1.83355718e+00\n",
      " -6.49142750e-01 -8.13548034e-01 -6.30890449e-01 -7.32049126e-01\n",
      " -5.12306429e-01 -6.95275711e-01 -4.62908355e-01  1.11499520e+00\n",
      "  9.60784912e-01 -7.43896169e-01 -7.56746084e-01 -6.42508837e-01\n",
      " -6.61183905e-01 -7.17156600e-01 -7.42286758e-01  9.69607089e-02\n",
      "  5.31686770e-01 -4.07940124e-01  2.23650005e+00  1.60875079e+00\n",
      " -5.19395389e-01 -5.88686622e-01  5.13479554e-02  1.86979829e+00\n",
      " -7.27677469e-01 -4.43876299e-01 -6.46818535e-01 -2.94450061e-01\n",
      " -4.48370311e-01  2.03648100e+00 -2.99836452e-01  1.82922066e+00\n",
      " -6.10499054e-01  4.36435444e-01  1.34051685e+00 -5.92382767e-01\n",
      " -6.80275227e-01 -6.36034461e-01  2.13951801e+00 -4.08476095e-01\n",
      " -8.07837580e-01 -6.08095742e-01 -8.06050339e-01  1.31429996e+00\n",
      "  1.65143499e+00  2.20048697e+00  1.61377807e+00 -6.38840607e-01\n",
      " -6.54636565e-01 -4.61340622e-01 -4.03459750e-01 -5.02127883e-01\n",
      " -6.38368580e-01 -7.43638686e-01 -7.92267982e-01 -6.32598243e-01\n",
      " -6.15838169e-01 -6.04840573e-01 -7.75121245e-01  1.68045594e+00\n",
      " -5.06805351e-01 -4.66464083e-01 -6.48513619e-01 -6.48188298e-01\n",
      " -6.33586812e-01 -4.31886917e-01  1.54389044e+00 -7.40026611e-01\n",
      " -5.73317001e-01 -6.16605359e-01  1.59423332e+00  1.50661426e+00\n",
      " -6.68594813e-01 -5.93222470e-01 -7.59229982e-01 -6.53366633e-01\n",
      " -7.29574389e-01  1.69838980e+00 -5.00449105e-01 -5.77174158e-01\n",
      " -6.58386321e-01  3.18806059e-01 -3.06131453e-01  1.52848863e+00\n",
      " -5.63991199e-01 -4.70498749e-01 -7.78026205e-01  1.51747433e+00\n",
      " -4.36411856e-01 -7.13806869e-01 -7.04405414e-01 -7.08671092e-01\n",
      "  1.30629402e+00 -7.33128564e-01 -6.13455667e-01 -4.06405348e-01\n",
      "  2.06892995e+00  1.32883444e+00 -7.65220061e-01 -7.50316304e-01\n",
      "  1.63195885e+00 -6.47997267e-01 -2.26779598e-01 -6.39142554e-01\n",
      "  1.57507979e+00  1.17893065e+00 -6.23137683e-01 -1.24064287e-01\n",
      " -5.59357370e-01 -7.54370496e-01  1.16973368e+00  1.08403536e+00\n",
      " -7.93922888e-01  1.57670218e+00 -6.66213535e-01 -7.66758323e-01\n",
      "  2.08882546e+00 -7.05269941e-01 -6.86586725e-01  1.66924911e+00\n",
      " -6.32490029e-01 -2.74436888e-01 -6.63053879e-01 -4.53059447e-01\n",
      " -7.17580806e-01 -6.52389521e-01 -8.14481672e-01  5.40382633e-01\n",
      " -7.66665817e-01  1.64942572e+00 -8.21717473e-01  1.48075542e+00\n",
      " -6.24866630e-01  9.14440454e-01 -6.40574631e-01  2.19336850e+00\n",
      " -6.50130800e-01 -5.23371253e-01 -8.04919901e-01 -7.39210766e-01\n",
      "  1.68282143e+00 -2.74844623e-01 -6.57545819e-01 -6.30849278e-01\n",
      " -6.35911843e-01 -7.43103185e-01 -8.42864787e-01 -7.14869457e-01\n",
      " -4.81904582e-01 -7.04068926e-01 -5.92426410e-01 -4.80075268e-01\n",
      " -7.31471433e-01 -7.46166119e-01  1.37870411e+00 -5.74015315e-01\n",
      " -4.96334573e-01 -7.11850613e-01 -6.89923094e-01  1.47433628e+00\n",
      " -6.50194494e-01 -6.59039796e-01  2.23057668e+00 -6.57880566e-01\n",
      " -7.27540280e-01 -4.11703911e-01 -6.20740649e-01 -5.71055513e-01\n",
      " -4.33443266e-01  1.43641280e+00  8.61818716e-01 -4.25703867e-01\n",
      "  1.30699120e+00 -7.18624814e-01 -6.69259737e-01 -2.11958904e-01\n",
      " -5.11170159e-01 -8.14274657e-01  5.37843922e-01 -7.29619605e-01\n",
      " -7.08285338e-01 -8.41503703e-01 -6.37267366e-01 -7.66810349e-01\n",
      " -5.75012801e-01 -6.91457824e-01 -6.43314526e-01 -6.82110089e-01\n",
      "  3.60925297e-01 -6.64056158e-01 -7.29369668e-01  1.68135986e+00\n",
      " -6.30770763e-01 -8.15487802e-01 -4.05247035e-01 -2.64093119e-01\n",
      " -6.34708112e-01  8.76510088e-01  1.80763593e+00 -6.40458560e-01\n",
      "  1.58552256e+00  1.05377486e+00  1.39096117e+00 -6.67270311e-01\n",
      " -8.00229348e-01  1.87201720e+00 -5.95452990e-01  2.62582443e+00\n",
      " -5.15790370e-01 -6.44686454e-01 -5.50850200e-01 -2.71185734e-01\n",
      " -6.41886874e-01 -6.98537776e-01 -7.56530141e-01  2.32592780e+00\n",
      " -6.52382627e-01  5.39411120e-01 -2.80142985e-01 -7.96748847e-01\n",
      "  1.34936072e+00 -6.79464254e-01 -7.17361412e-01 -3.67433428e-01\n",
      " -6.33416887e-01 -2.82728573e-01 -7.73933163e-01  2.00377939e+00\n",
      " -6.54782463e-01 -4.75848998e-01 -6.95023000e-01 -6.87942536e-01\n",
      " -7.94775319e-01 -7.32546786e-01 -6.26055677e-01 -6.25349675e-01\n",
      " -7.01145577e-01  1.98956779e+00  3.19357949e-01 -6.68705843e-01\n",
      " -6.40849649e-01  1.78408013e+00  1.44605419e+00  1.41198276e+00\n",
      "  2.09192371e+00  1.40635100e+00 -6.02231960e-01 -6.66375228e-01\n",
      " -3.80305971e-01  1.54104191e+00 -7.29085785e-01  1.31038426e+00\n",
      "  1.55588726e+00 -7.59447219e-01 -3.54840278e-01 -6.60319156e-01\n",
      "  1.28481440e+00 -5.27685587e-01 -5.27054782e-01 -6.83456570e-01\n",
      "  1.13287721e+00  2.09127343e+00 -7.29132044e-01 -5.96768392e-01\n",
      "  1.16727762e+00  1.30341583e+00 -6.49629349e-01 -7.91649049e-01\n",
      "  1.51108794e+00  1.49929060e+00  1.66222060e+00 -6.19466713e-01\n",
      " -6.36585356e-01  1.14462847e+00  1.37583048e+00 -6.80759058e-01\n",
      " -8.06919977e-01 -7.17219479e-01  1.87719928e+00 -7.50907249e-01\n",
      " -8.11721050e-01 -6.63329223e-01 -5.27714378e-01 -6.28637849e-01\n",
      " -7.37827748e-01  2.58055837e+00 -7.29286299e-01 -6.29876752e-01\n",
      " -6.73386851e-01 -7.23541920e-01 -6.18749246e-01 -6.59261598e-01\n",
      " -7.02510513e-01  1.16172363e+00 -7.17901933e-01 -6.36843885e-01\n",
      " -7.48378099e-01 -6.29519561e-01 -3.29214509e-01 -6.38324529e-01]\n"
     ]
    }
   ],
   "source": [
    "train_predictions = best_rf_model.predict(x1_train)\n",
    "test_predictions = best_rf_model.predict(x1_test)\n",
    "print(train_predictions)"
   ]
  },
  {
   "cell_type": "markdown",
   "id": "w0Z_0T1jHfLf",
   "metadata": {
    "id": "w0Z_0T1jHfLf"
   },
   "source": [
    "#### Calculate metrics for both training and test sets"
   ]
  },
  {
   "cell_type": "code",
   "execution_count": 47,
   "id": "2E9XSGg4Hh8g",
   "metadata": {
    "id": "2E9XSGg4Hh8g"
   },
   "outputs": [],
   "source": [
    "from sklearn.metrics import mean_absolute_error, mean_squared_error\n",
    "\n",
    "def print_metrics(y_true, y_pred, dataset_name):\n",
    "    mae = mean_absolute_error(y_true, y_pred)\n",
    "    mse = mean_squared_error(y_true, y_pred)\n",
    "    rmse = np.sqrt(mse)\n",
    "    r2 = r2_score(y_true, y_pred)\n",
    "\n",
    "    print(f\"\\n{dataset_name} Metrics:\")\n",
    "    print(f\"Mean Absolute Error: {mae:.4f}\")\n",
    "    print(f\"Mean Squared Error: {mse:.4f}\")\n",
    "    print(f\"Root Mean Squared Error: {rmse:.4f}\")\n",
    "    print(f\"R² Score: {r2:.4f}\")"
   ]
  },
  {
   "cell_type": "markdown",
   "id": "-brD3RbuIsDe",
   "metadata": {
    "id": "-brD3RbuIsDe"
   },
   "source": [
    "#### Print metrics for both sets"
   ]
  },
  {
   "cell_type": "code",
   "execution_count": 48,
   "id": "KcpKmbVIIvIH",
   "metadata": {
    "id": "KcpKmbVIIvIH"
   },
   "outputs": [
    {
     "name": "stdout",
     "output_type": "stream",
     "text": [
      "\n",
      "Training Metrics:\n",
      "Mean Absolute Error: 0.0335\n",
      "Mean Squared Error: 0.0046\n",
      "Root Mean Squared Error: 0.0677\n",
      "R² Score: 0.9953\n",
      "\n",
      "Test Metrics:\n",
      "Mean Absolute Error: 0.1047\n",
      "Mean Squared Error: 0.0363\n",
      "Root Mean Squared Error: 0.1904\n",
      "R² Score: 0.9649\n"
     ]
    }
   ],
   "source": [
    "print_metrics(Y1_train, train_predictions, \"Training\")\n",
    "print_metrics(Y1_test, test_predictions, \"Test\")"
   ]
  },
  {
   "cell_type": "markdown",
   "id": "LJd7YVSjHraA",
   "metadata": {
    "id": "LJd7YVSjHraA"
   },
   "source": [
    "#### Feature importance analysis"
   ]
  },
  {
   "cell_type": "code",
   "execution_count": 49,
   "id": "ZqjEW6k6Hvcp",
   "metadata": {
    "id": "ZqjEW6k6Hvcp"
   },
   "outputs": [
    {
     "name": "stdout",
     "output_type": "stream",
     "text": [
      "\n",
      "Top 10 Most Important Features:\n",
      "                    feature  importance\n",
      "28                  class_1    0.748348\n",
      "32           price_per_hour    0.081014\n",
      "1                  duration    0.070054\n",
      "7           airline_Vistara    0.039796\n",
      "2                 days_left    0.013256\n",
      "3         airline_Air_India    0.010561\n",
      "0                     stops    0.009509\n",
      "31                    route    0.004535\n",
      "5            airline_Indigo    0.003734\n",
      "30  destination_city_active    0.003558\n"
     ]
    }
   ],
   "source": [
    "feature_importance = pd.DataFrame({\n",
    "    'feature': x1_train.columns,\n",
    "    'importance': best_rf_model.feature_importances_\n",
    "}).sort_values('importance', ascending=False)\n",
    "\n",
    "print(\"\\nTop 10 Most Important Features:\")\n",
    "print(feature_importance.head(10))\n"
   ]
  },
  {
   "cell_type": "markdown",
   "id": "kZ8-nn0vH1r9",
   "metadata": {
    "id": "kZ8-nn0vH1r9"
   },
   "source": [
    "#### Cross-validation scores for the best model"
   ]
  },
  {
   "cell_type": "code",
   "execution_count": 50,
   "id": "AKpKBJDAH5jc",
   "metadata": {
    "id": "AKpKBJDAH5jc"
   },
   "outputs": [
    {
     "name": "stdout",
     "output_type": "stream",
     "text": [
      "\n",
      "Cross-validation scores: [0.97008125 0.95024675 0.97129035 0.94917403 0.94987974]\n",
      "Mean CV Score: 0.9581 (+/- 0.0205)\n"
     ]
    }
   ],
   "source": [
    "cv_scores = cross_val_score(best_rf_model, x1_train, Y1_train, cv=5, scoring='r2')\n",
    "print(\"\\nCross-validation scores:\", cv_scores)\n",
    "print(f\"Mean CV Score: {cv_scores.mean():.4f} (+/- {cv_scores.std() * 2:.4f})\")"
   ]
  },
  {
   "cell_type": "markdown",
   "id": "svBNu-kFI6TH",
   "metadata": {
    "id": "svBNu-kFI6TH"
   },
   "source": [
    "#### Create scatter plots for both training and test predictions"
   ]
  },
  {
   "cell_type": "markdown",
   "id": "ReguYYZ9JLm5",
   "metadata": {
    "id": "ReguYYZ9JLm5"
   },
   "source": [
    "#### Training set scatter plot"
   ]
  },
  {
   "cell_type": "code",
   "execution_count": 60,
   "id": "91ac9ba3-ef7f-4f8c-90ad-bba5e7f721a3",
   "metadata": {},
   "outputs": [
    {
     "ename": "NameError",
     "evalue": "name 'plt' is not defined",
     "output_type": "error",
     "traceback": [
      "\u001b[1;31m---------------------------------------------------------------------------\u001b[0m",
      "\u001b[1;31mNameError\u001b[0m                                 Traceback (most recent call last)",
      "Cell \u001b[1;32mIn[60], line 18\u001b[0m\n\u001b[0;32m     15\u001b[0m max_val \u001b[38;5;241m=\u001b[39m \u001b[38;5;28mmax\u001b[39m(Y1_train\u001b[38;5;241m.\u001b[39mmax(), train_predictions\u001b[38;5;241m.\u001b[39mmax())\n\u001b[0;32m     16\u001b[0m data[\u001b[38;5;124m'\u001b[39m\u001b[38;5;124mLine\u001b[39m\u001b[38;5;124m'\u001b[39m] \u001b[38;5;241m=\u001b[39m data[\u001b[38;5;124m'\u001b[39m\u001b[38;5;124mActual\u001b[39m\u001b[38;5;124m'\u001b[39m]  \u001b[38;5;66;03m# Temporary column for the red line\u001b[39;00m\n\u001b[1;32m---> 18\u001b[0m data\u001b[38;5;241m.\u001b[39mplot(x\u001b[38;5;241m=\u001b[39m\u001b[38;5;124m'\u001b[39m\u001b[38;5;124mLine\u001b[39m\u001b[38;5;124m'\u001b[39m, y\u001b[38;5;241m=\u001b[39m\u001b[38;5;124m'\u001b[39m\u001b[38;5;124mLine\u001b[39m\u001b[38;5;124m'\u001b[39m, color\u001b[38;5;241m=\u001b[39m\u001b[38;5;124m'\u001b[39m\u001b[38;5;124mred\u001b[39m\u001b[38;5;124m'\u001b[39m, linestyle\u001b[38;5;241m=\u001b[39m\u001b[38;5;124m'\u001b[39m\u001b[38;5;124m--\u001b[39m\u001b[38;5;124m'\u001b[39m, linewidth\u001b[38;5;241m=\u001b[39m\u001b[38;5;241m2\u001b[39m, legend\u001b[38;5;241m=\u001b[39m\u001b[38;5;28;01mFalse\u001b[39;00m, ax\u001b[38;5;241m=\u001b[39m\u001b[43mplt\u001b[49m\u001b[38;5;241m.\u001b[39mgca())\n",
      "\u001b[1;31mNameError\u001b[0m: name 'plt' is not defined"
     ]
    },
    {
     "data": {
      "image/png": "[encoded data removed]",
      "text/plain": [
       "<Figure size 800x600 with 1 Axes>"
      ]
     },
     "metadata": {},
     "output_type": "display_data"
    }
   ],
   "source": [
    "import pandas as pd\n",
    "\n",
    "\n",
    "# Example data\n",
    "data = pd.DataFrame({\n",
    "    'Actual': Y1_train,\n",
    "    'Predicted': train_predictions\n",
    "})\n",
    "\n",
    "# Scatter plot\n",
    "data.plot.scatter(x='Actual', y='Predicted', alpha=0.5, figsize=(8, 6), title='Training Set: Actual vs Predicted')\n",
    "\n",
    "# Adding a reference line (Actual = Predicted)\n",
    "min_val = min(Y1_train.min(), train_predictions.min())\n",
    "max_val = max(Y1_train.max(), train_predictions.max())\n",
    "data['Line'] = data['Actual']  # Temporary column for the red line\n",
    "\n",
    "data.plot(x='Line', y='Line', color='red', linestyle='--', linewidth=2, legend=False, ax=plt.gca())\n"
   ]
  },
  {
   "cell_type": "code",
   "execution_count": 61,
   "id": "-SWdCifjJHVP",
   "metadata": {
    "id": "-SWdCifjJHVP"
   },
   "outputs": [
    {
     "data": {
      "text/plain": [
       "[<matplotlib.lines.Line2D at 0x1fa53ff4580>]"
      ]
     },
     "execution_count": 61,
     "metadata": {},
     "output_type": "execute_result"
    },
    {
     "data": {
      "image/png": "[encoded data removed]",
      "text/plain": [
       "<Figure size 800x600 with 1 Axes>"
      ]
     },
     "metadata": {},
     "output_type": "display_data"
    }
   ],
   "source": [
    "import pandas as pd\n",
    "\n",
    "# Example DataFrame\n",
    "data = pd.DataFrame({\n",
    "    'Actual': Y1_train,\n",
    "    'Predicted': train_predictions\n",
    "})\n",
    "\n",
    "# Plot 1: Scatter plot\n",
    "ax = data.plot.scatter(x='Actual', y='Predicted', alpha=0.5, figsize=(8, 6), title='Training Set: Actual vs Predicted')\n",
    "ax.set_xlabel('Actual Values')\n",
    "ax.set_ylabel('Predicted Values')\n",
    "\n",
    "# Plot 2: Add the reference line (Actual = Predicted)\n",
    "min_val = min(data['Actual'].min(), data['Predicted'].min())\n",
    "max_val = max(data['Actual'].max(), data['Predicted'].max())\n",
    "ax.plot([min_val, max_val], [min_val, max_val], 'r--', lw=2)\n"
   ]
  },
  {
   "cell_type": "markdown",
   "id": "wWgJ3LlSJQej",
   "metadata": {
    "id": "wWgJ3LlSJQej"
   },
   "source": [
    "#### Test set scatter plot"
   ]
  },
  {
   "cell_type": "code",
   "execution_count": 62,
   "id": "rJAZyeteJJ-M",
   "metadata": {
    "id": "rJAZyeteJJ-M"
   },
   "outputs": [
    {
     "data": {
      "text/plain": [
       "[<matplotlib.lines.Line2D at 0x1fa54053700>]"
      ]
     },
     "execution_count": 62,
     "metadata": {},
     "output_type": "execute_result"
    },
    {
     "data": {
      "image/png": "[encoded data removed]",
      "text/plain": [
       "<Figure size 800x600 with 1 Axes>"
      ]
     },
     "metadata": {},
     "output_type": "display_data"
    }
   ],
   "source": [
    "import pandas as pd\n",
    "\n",
    "# Example DataFrame\n",
    "test_data = pd.DataFrame({\n",
    "    'Actual': Y1_test,\n",
    "    'Predicted': test_predictions\n",
    "})\n",
    "\n",
    "# Scatter plot\n",
    "ax = test_data.plot.scatter(x='Actual', y='Predicted', alpha=0.5, figsize=(8, 6), title='Test Set: Actual vs Predicted')\n",
    "ax.set_xlabel('Actual Values')\n",
    "ax.set_ylabel('Predicted Values')\n",
    "\n",
    "# Add reference line (Actual = Predicted)\n",
    "min_val = min(test_data['Actual'].min(), test_data['Predicted'].min())\n",
    "max_val = max(test_data['Actual'].max(), test_data['Predicted'].max())\n",
    "ax.plot([min_val, max_val], [min_val, max_val], 'r--', lw=2)\n"
   ]
  },
  {
   "cell_type": "markdown",
   "id": "IU_paZeaJZFi",
   "metadata": {
    "id": "IU_paZeaJZFi"
   },
   "source": [
    "#### Residual plot"
   ]
  },
  {
   "cell_type": "markdown",
   "id": "_mtJihOOJhNG",
   "metadata": {
    "id": "_mtJihOOJhNG"
   },
   "source": [
    "#### Training residuals"
   ]
  },
  {
   "cell_type": "code",
   "execution_count": 63,
   "id": "QMx0HApoJjLm",
   "metadata": {
    "id": "QMx0HApoJjLm"
   },
   "outputs": [
    {
     "data": {
      "image/png": "[encoded data removed]",
      "text/plain": [
       "<Figure size 640x480 with 1 Axes>"
      ]
     },
     "metadata": {},
     "output_type": "display_data"
    }
   ],
   "source": [
    "import matplotlib.pyplot as plt\n",
    "import pandas as pd\n",
    "\n",
    "# Assuming train_predictions and Y1_train are available as Pandas Series or DataFrames\n",
    "residuals_train = train_predictions - Y1_train\n",
    "\n",
    "# Create a DataFrame for easier handling\n",
    "df_train = pd.DataFrame({'Predicted': train_predictions, 'Residuals': residuals_train})\n",
    "\n",
    "# Create the plot using Pandas plot method\n",
    "plt.subplot(1, 2, 1)\n",
    "df_train.plot(kind='scatter', x='Predicted', y='Residuals', alpha=0.5, color='blue', ax=plt.gca())\n",
    "plt.axhline(y=0, color='r', linestyle='--')\n",
    "plt.xlabel('Predicted Values')\n",
    "plt.ylabel('Residuals')\n",
    "plt.title('Training Set: Residual Plot')\n",
    "\n",
    "plt.show()\n"
   ]
  },
  {
   "cell_type": "markdown",
   "id": "VKwct0tUJncP",
   "metadata": {
    "id": "VKwct0tUJncP"
   },
   "source": [
    "##### Test residuals"
   ]
  },
  {
   "cell_type": "code",
   "execution_count": 64,
   "id": "dUuj1u8PJs71",
   "metadata": {
    "id": "dUuj1u8PJs71"
   },
   "outputs": [
    {
     "data": {
      "image/png": "[encoded data removed]",
      "text/plain": [
       "<Figure size 640x480 with 1 Axes>"
      ]
     },
     "metadata": {},
     "output_type": "display_data"
    }
   ],
   "source": [
    "import matplotlib.pyplot as plt\n",
    "import pandas as pd\n",
    "\n",
    "# Assuming test_predictions and Y1_test are available as Pandas Series or DataFrames\n",
    "residuals_test = test_predictions - Y1_test\n",
    "\n",
    "# Create a DataFrame for easier handling\n",
    "df_test = pd.DataFrame({'Predicted': test_predictions, 'Residuals': residuals_test})\n",
    "\n",
    "# Create the plot for the test set using Pandas plot method\n",
    "plt.subplot(1, 2, 2)\n",
    "df_test.plot(kind='scatter', x='Predicted', y='Residuals', alpha=0.5, color='blue', ax=plt.gca())\n",
    "plt.axhline(y=0, color='r', linestyle='--')\n",
    "plt.xlabel('Predicted Values')\n",
    "plt.ylabel('Residuals')\n",
    "plt.title('Test Set: Residual Plot')\n",
    "\n",
    "plt.show()\n"
   ]
  }
 ],
 "metadata": {
  "colab": {
   "provenance": []
  },
  "kernelspec": {
   "display_name": "Python 3 (ipykernel)",
   "language": "python",
   "name": "python3"
  },
  "language_info": {
   "codemirror_mode": {
    "name": "ipython",
    "version": 3
   },
   "file_extension": ".py",
   "mimetype": "text/x-python",
   "name": "python",
   "nbconvert_exporter": "python",
   "pygments_lexer": "ipython3",
   "version": "3.9.0"
  }
 },
 "nbformat": 4,
 "nbformat_minor": 5
}
